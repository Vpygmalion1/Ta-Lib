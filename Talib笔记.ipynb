{
 "cells": [
  {
   "cell_type": "markdown",
   "id": "4fba1c82",
   "metadata": {},
   "source": [
    "# 一、TA-Lib介绍"
   ]
  },
  {
   "cell_type": "markdown",
   "id": "0c2df191",
   "metadata": {},
   "source": [
    "## 1.简介\n",
    "下载地址及原文：https://mrjbq7.github.io/ta-lib/  \n",
    "TA-Lib，全称“Technical Analysis Library”, 即技术分析库，是Python金融量化的高级库。\n",
    "\n",
    "* 包含了150多个指标,包括：ADX, MACD, RSI, Stochastic, Bollinger Bands, 等。\n",
    "* K线形态识别\n",
    "* 完全开源，支持 C/C++, Java, Perl, Python and 100% Managed .NET\n",
    "\n",
    "## 2.安装\n",
    "* 使用pip安装  \n",
    "`$ pip install TA-Lib`  \n",
    "* 或者下载源后使用`setup.py`安装    \n",
    "`$ python setup.py install`  \n",
    "\n",
    "如果安装发生错误  \n",
    "```\n",
    "func.c:256:28: fatal error: ta-lib/ta_libc.h: No such file or directory\n",
    "compilation terminated.\n",
    "```\n",
    "\n",
    "\n",
    "通常意味着它找不到底层的库，需要安装依赖库文件： \n",
    "\n",
    "**Mac OS X**  \n",
    "`$ brew install ta-lib`\n",
    "\n",
    "**Windows**  \n",
    "下载 [ta-lib-0.4.0-msvc.zip](http://prdownloads.sourceforge.net/ta-lib/ta-lib-0.4.0-msvc.zip)  并且解压至``C:\\ta-lib``\n",
    "\n",
    "**Linux**  \n",
    "下载 [ta-lib-0.4.0-src.tar.gz](http://prdownloads.sourceforge.net/ta-lib/ta-lib-0.4.0-src.tar.gz)并：  \n",
    "```\n",
    "$ untar and cd\n",
    "$ ./configure --prefix=/usr\n",
    "$ make\n",
    "$ sudo make install\n",
    "```\n",
    "如果使用`make -jX `创建TA-Lib将会失败，只需要在`[sudo] make install`后面再运行一次`make -jX`就可以\n",
    "\n",
    "## 3.方法分类\n",
    "![talib方法分类](./talib方法分类.png)\n"
   ]
  },
  {
   "cell_type": "markdown",
   "id": "f444199c",
   "metadata": {},
   "source": [
    "# 二、API使用举例"
   ]
  },
  {
   "cell_type": "markdown",
   "id": "64f04f46",
   "metadata": {},
   "source": [
    "## 1.简单API使用\n",
    "每个函数都默认需要输入数组，并为它们的参数提供默认值，除非指定为关键字参数。通常，这些函数会有一个初步的“lookback”时期（生成一个输出之前所需要的观测数量），设置为`NaN`。"
   ]
  },
  {
   "cell_type": "code",
   "execution_count": 1,
   "id": "666c9d1a",
   "metadata": {},
   "outputs": [],
   "source": [
    "# 导入库\n",
    "import numpy\n",
    "import talib\n",
    "\n",
    "# 随机生成close数据\n",
    "close = numpy.random.random(100)"
   ]
  },
  {
   "cell_type": "markdown",
   "id": "a3d82615",
   "metadata": {},
   "source": [
    "计算收盘价的一个简单移动平均数SMA:"
   ]
  },
  {
   "cell_type": "code",
   "execution_count": 2,
   "id": "219af426",
   "metadata": {},
   "outputs": [],
   "source": [
    "output = talib.SMA(close)"
   ]
  },
  {
   "cell_type": "markdown",
   "id": "0bc8a8ca",
   "metadata": {},
   "source": [
    "计算布林线，三指数移动平均："
   ]
  },
  {
   "cell_type": "code",
   "execution_count": 3,
   "id": "2ad6f063",
   "metadata": {},
   "outputs": [],
   "source": [
    "from talib import MA_Type\n",
    "\n",
    "upper, middle, lower = talib.BBANDS(close, matype=MA_Type.T3)"
   ]
  },
  {
   "cell_type": "markdown",
   "id": "1559ca59",
   "metadata": {},
   "source": [
    "计算收盘价的动量，时间为5："
   ]
  },
  {
   "cell_type": "code",
   "execution_count": 4,
   "id": "0183f129",
   "metadata": {},
   "outputs": [],
   "source": [
    "output = talib.MOM(close, timeperiod=5)"
   ]
  },
  {
   "cell_type": "markdown",
   "id": "cd96fb4d",
   "metadata": {},
   "source": [
    "## 2.抽象API使用"
   ]
  },
  {
   "cell_type": "code",
   "execution_count": 5,
   "id": "0ae02538",
   "metadata": {},
   "outputs": [],
   "source": [
    "import numpy as np\n",
    "# 随机生成numpy数组组成的字典数据\n",
    "# 请注意，所有的ndarrays必须是相同的长度！\n",
    "inputs = {\n",
    "    'open': np.random.random(100),\n",
    "    'high': np.random.random(100),\n",
    "    'low': np.random.random(100),\n",
    "    'close': np.random.random(100),\n",
    "    'volume': np.random.random(100)\n",
    "}"
   ]
  },
  {
   "cell_type": "markdown",
   "id": "00e1ffeb",
   "metadata": {},
   "source": [
    "函数可以直接导入，也可以用名称实例化："
   ]
  },
  {
   "cell_type": "code",
   "execution_count": 6,
   "id": "d393e4d2",
   "metadata": {},
   "outputs": [],
   "source": [
    "from talib import abstract\n",
    "sma = abstract.SMA\n",
    "sma = abstract.Function('sma')"
   ]
  },
  {
   "cell_type": "markdown",
   "id": "3ec117ed",
   "metadata": {},
   "source": [
    "调用函数基本上与函数API相同："
   ]
  },
  {
   "cell_type": "code",
   "execution_count": 7,
   "id": "a38a6821",
   "metadata": {},
   "outputs": [],
   "source": [
    "from talib.abstract import *\n",
    "output = SMA(inputs, timeperiod=25) # calculate on close prices by default\n",
    "output = SMA(inputs, timeperiod=25, price='open') # calculate on opens\n",
    "upper, middle, lower = BBANDS(inputs['close'], 20, 2., 2.)\n",
    "slowk, slowd = STOCH(inputs, 5, 3, 0, 3, 0) # uses high, low, close by default\n",
    "slowk, slowd = STOCH(inputs, 5, 3, 0, 3, 0, prices=['high', 'low', 'open'])"
   ]
  },
  {
   "cell_type": "markdown",
   "id": "bfd39ff0",
   "metadata": {},
   "source": [
    "# 三、指标和函数"
   ]
  },
  {
   "cell_type": "markdown",
   "id": "23062cbb",
   "metadata": {},
   "source": [
    "## 1.Overlap Studies 重叠指标\n",
    "\n",
    "**重叠指标汇总表**\n",
    "\n",
    "| 指标                                                         | 函数名       | 实例                                                         |\n",
    "| :------------------------------------------------------------ | :------------ | :------------------------------------------------------------ |\n",
    "| Bollinger Bands 布林带                                   | BBANDS       | upperband, middleband, lowerband = BBANDS(close, timeperiod=5, nbdevup=2., nbdevdn=2., matype=0) |\n",
    "| Double Exponential Moving Average 双指数移动平均线               | DEMA         | real = DEMA(close, timeperiod=30)                            |\n",
    "| Exponential Moving Average 指数滑动平均                        | EMA          | real = EMA(close, timeperiod=30)                             |\n",
    "| Hilbert Transform - Instantaneous Trendline 希尔伯特瞬时变换 | HT_TRENDLINE | real = HT_TRENDLINE(close)                                   |\n",
    "| Kaufman Adaptive Moving Average 卡玛考夫曼自适应移动平均     | KAMA         | real = KAMA(close, timeperiod=30)                            |\n",
    "| Moving average 移动平均线                                    | MA           | real = MA(close, timeperiod=30, matype=0)                    |\n",
    "| MESA Adaptive Moving Average MESA 自适应移动平均线           | MAMA         | mama, fama = MAMA(close, fastlimit=0.0, slowlimit=0.0)       |\n",
    "| Moving average with variable period 可变周期移动平均         | MAVP         | real = MAVP(close, periods, minperiod=2, maxperiod=30, matype=0) |\n",
    "| MidPoint over period 周期中点                                | MIDPOINT     | real = MIDPOINT(close, timeperiod=14)                        |\n",
    "| Midpoint Price over period 周期中点价                        | MIDPRICE     | real = MIDPOINT(close, timeperiod=14)                        |\n",
    "| Parabolic SAR 抛物线转向指标                                     | SAR          | real = SAR(inputs['high'], inputs['low'], acceleration=0., maximum=0.) |\n",
    "| Parabolic SAR - Extended 抛物线转向指标 - 扩展                      | SAREXT       | real = SAREXT(inputs['high'], inputs['low'], startvalue=0., offsetonreverse=0., accelerationinitlong=0., accelerationlong=0., accelerationmaxlong=0., accelerationinitshort=0., accelerationshort=0., accelerationmaxshort=0.) |\n",
    "| Simple Moving Average 简单移动平均线                         | SMA          | real = SMA(close, timeperiod=30)                             |\n",
    "| Triple Exponential Moving Average (T3) 三次指数移动平均线    | T3           | real = T3(close, timeperiod=5, vfactor=0.)                   |\n",
    "| Triple Exponential Moving Average 三次指数移动平均线         | TEMA         | real = TEMA(close, timeperiod=30)                            |\n",
    "| Triangular Moving Average 三角移动平均线                     | TRIMA        | real = TRIMA(close, timeperiod=30)                           |\n",
    "| Weighted Moving Average 加权移动平均线                       | WMA          | real = WMA(close, timeperiod=30)                             |\n",
    "\n"
   ]
  },
  {
   "cell_type": "markdown",
   "id": "cfc0e96a",
   "metadata": {},
   "source": [
    "### (1) BBANDS - Bollinger Bands 布林带\n",
    ">函数名：BBANDS  \n",
    "名称：布林带  \n",
    "简介：其利用统计原理，求出股价的标准差及其信赖区间，从而确定股价的波动范围及未来走势，利用波带显示股价的安全高低价位。  "
   ]
  },
  {
   "cell_type": "code",
   "execution_count": 44,
   "id": "a2c16998",
   "metadata": {},
   "outputs": [],
   "source": [
    "upperband, middleband, lowerband = BBANDS(close, timeperiod=5, nbdevup=2., nbdevdn=2., matype=0)"
   ]
  },
  {
   "cell_type": "markdown",
   "id": "a98294be",
   "metadata": {},
   "source": [
    "### (2) DEMA - Double Exponential Moving Average  双指数移动平均线\n",
    ">函数名：DEMA   \n",
    "名称： 双指数移动平均线  \n",
    "简介：两条移动平均线来产生趋势信号，较长期者用来识别趋势，较短期者用来选择时机。正是两条平均线及价格三者的相互作用，才共同产生了趋势信号。    "
   ]
  },
  {
   "cell_type": "code",
   "execution_count": 45,
   "id": "a3897f69",
   "metadata": {},
   "outputs": [],
   "source": [
    "real = DEMA(close, timeperiod=30)"
   ]
  },
  {
   "cell_type": "markdown",
   "id": "e7458b1e",
   "metadata": {},
   "source": [
    "### (3) EMA - Exponential Moving Average 指数滑动平均\n",
    ">函数名：EMA   \n",
    "名称： 指数滑动平均   \n",
    "简介：是一种趋向类指标，其构造原理是仍然对价格收盘价进行算术平均，并根据计算结果来进行分析，用于判断价格未来走势的变动趋势。  "
   ]
  },
  {
   "cell_type": "code",
   "execution_count": 46,
   "id": "bbb29f17",
   "metadata": {},
   "outputs": [],
   "source": [
    "real = EMA(close, timeperiod=30)"
   ]
  },
  {
   "cell_type": "markdown",
   "id": "4c7db320",
   "metadata": {},
   "source": [
    "### (4) HT_TRENDLINE - Hilbert Transform - Instantaneous Trendline 希尔伯特瞬时变换\n",
    ">函数名：HT_TRENDLINE   \n",
    "名称： 希尔伯特瞬时变换  \n",
    "简介：是一种趋向类指标，其构造原理是仍然对价格收盘价进行算术平均，并根据计算结果来进行分析，用于判断价格未来走势的变动趋势。  "
   ]
  },
  {
   "cell_type": "code",
   "execution_count": 47,
   "id": "0de5a93c",
   "metadata": {},
   "outputs": [],
   "source": [
    "real = HT_TRENDLINE(close)"
   ]
  },
  {
   "cell_type": "markdown",
   "id": "c100201f",
   "metadata": {},
   "source": [
    "### (5)KAMA - Kaufman Adaptive Moving Average 卡玛考夫曼自适应移动平均\n",
    ">函数名：KAMA   \n",
    "名称： 卡玛考夫曼自适应移动平均  \n",
    "简介：短期均线贴近价格走势，灵敏度高，但会有很多噪声，产生虚假信号；长期均线在判断趋势上一般比较准确，但是长期均线有着严重滞后的问题。我们想得到这样的均线，当价格沿一个方向快速移动时，短期的移动平均线是最合适的；当价格在横盘的过程中，长期移动平均线是合适的。  "
   ]
  },
  {
   "cell_type": "code",
   "execution_count": 48,
   "id": "fa1a4d4e",
   "metadata": {},
   "outputs": [],
   "source": [
    "real = KAMA(close, timeperiod=30)"
   ]
  },
  {
   "cell_type": "markdown",
   "id": "5ba7b953",
   "metadata": {},
   "source": [
    "### (6)MA - Moving average  移动平均线\n",
    ">函数名：MA   \n",
    "名称： 移动平均线  \n",
    "简介：移动平均线，Moving Average，简称MA，原本的意思是移动平均，由于我们将其制作成线形，所以一般称之为移动平均线，简称均线。它是将某一段时间的收盘价之和除以该周期。 比如日线MA5指5天内的收盘价除以5。  "
   ]
  },
  {
   "cell_type": "code",
   "execution_count": 53,
   "id": "dd5c67cb",
   "metadata": {},
   "outputs": [],
   "source": [
    "real = MA(close, timeperiod=30, matype=0)"
   ]
  },
  {
   "cell_type": "markdown",
   "id": "0c79c3db",
   "metadata": {},
   "source": [
    "### (7)MAMA - MESA Adaptive Moving Average  MESA 自适应移动平均线\n",
    ">函数名：MAMA  \n",
    "名称： MESA 自适应移动平均线  \n",
    "简介：MAMA指标是一种比较特殊的均线指标。由两条类似移动平均线的指标线组成的，一条是快速线，另一条是慢速线，因此，快慢两条线的交叉可以产生交易信号。"
   ]
  },
  {
   "cell_type": "code",
   "execution_count": null,
   "id": "64350d7f",
   "metadata": {},
   "outputs": [],
   "source": [
    "mama, fama = MAMA(close, fastlimit=0.0, slowlimit=0.0)"
   ]
  },
  {
   "cell_type": "markdown",
   "id": "7ae4fa26",
   "metadata": {},
   "source": [
    "### (8)MAVP - Moving average with variable period 可变周期移动平均\n",
    ">函数名：MAVP  \n",
    "名称： 可变周期移动平均  \n",
    "简介：可以设置不同的平均线周期"
   ]
  },
  {
   "cell_type": "code",
   "execution_count": null,
   "id": "fe735371",
   "metadata": {},
   "outputs": [],
   "source": [
    "real = MAVP(close, periods, minperiod=2, maxperiod=30, matype=0)"
   ]
  },
  {
   "cell_type": "markdown",
   "id": "eb3347cb",
   "metadata": {},
   "source": [
    "### (9)MIDPOINT - MidPoint over period 周期中点\n",
    ">函数名：MIDPOINT  \n",
    "名称： 周期中点  "
   ]
  },
  {
   "cell_type": "code",
   "execution_count": 62,
   "id": "d3e9fce6",
   "metadata": {},
   "outputs": [],
   "source": [
    "real = MIDPOINT(close, timeperiod=14)"
   ]
  },
  {
   "cell_type": "markdown",
   "id": "a2391d65",
   "metadata": {},
   "source": [
    "### (10) MIDPRICE - Midpoint Price over period 周期中点价\n",
    ">函数名：MIDPRICE  \n",
    "名称： 周期中点价  "
   ]
  },
  {
   "cell_type": "code",
   "execution_count": 63,
   "id": "9de52356",
   "metadata": {},
   "outputs": [],
   "source": [
    "real = MIDPOINT(close, timeperiod=14)"
   ]
  },
  {
   "cell_type": "markdown",
   "id": "18baf9ff",
   "metadata": {},
   "source": [
    "### (11) SAR - Parabolic SAR  抛物线转向指标\n",
    ">函数名：SAR   \n",
    "名称： 抛物线转向指标  \n",
    "简介：抛物线转向也称停损点转向，是利用抛物线方式，随时调整停损点位置以观察买卖点。由于停损点（又称转向点SAR）以弧形的方式移动，故称之为抛物线转向指标。"
   ]
  },
  {
   "cell_type": "code",
   "execution_count": 66,
   "id": "f66bc058",
   "metadata": {},
   "outputs": [],
   "source": [
    "real = SAR(inputs['high'], inputs['low'], acceleration=0., maximum=0.)"
   ]
  },
  {
   "cell_type": "markdown",
   "id": "7441a259",
   "metadata": {},
   "source": [
    "### (12) SAREXT - Parabolic SAR - Extended 抛物线转向指标 - 扩展\n",
    ">函数名：SAREXT  \n",
    "名称： 抛物线转向指标 - 扩展"
   ]
  },
  {
   "cell_type": "code",
   "execution_count": 69,
   "id": "8618a282",
   "metadata": {},
   "outputs": [],
   "source": [
    "real = SAREXT(inputs['high'], inputs['low'], startvalue=0., offsetonreverse=0., accelerationinitlong=0., accelerationlong=0., accelerationmaxlong=0., accelerationinitshort=0., accelerationshort=0., accelerationmaxshort=0.)"
   ]
  },
  {
   "cell_type": "markdown",
   "id": "d1762e2e",
   "metadata": {},
   "source": [
    "### (13) SMA - Simple Moving Average 简单移动平均线\n",
    "\n",
    ">函数名：SMA  \n",
    "名称： 简单移动平均线  \n",
    "简介：移动平均线，Moving Average，简称MA，原本的意思是移动平均，由于我们将其制作成线形，所以一般称之为移动平均线，简称均线。它是将某一段时间的收盘价之和除以该周期。 比如日线MA5指5天内的收盘价除以5 。  "
   ]
  },
  {
   "cell_type": "code",
   "execution_count": 70,
   "id": "e053499d",
   "metadata": {},
   "outputs": [],
   "source": [
    "real = SMA(close, timeperiod=30)"
   ]
  },
  {
   "cell_type": "markdown",
   "id": "db4e0b44",
   "metadata": {},
   "source": [
    "### (14)T3 - Triple Exponential Moving Average (T3) 三次指数移动平均线\n",
    "\n",
    ">函数名：T3  \n",
    "名称：三次指数移动平均线  \n",
    "简介：TRIX长线操作时采用本指标的讯号，长时间按照本指标讯号交易，获利百分比大于损失百分比，利润相当可观。 比如日线MA5指5天内的收盘价除以5 。  "
   ]
  },
  {
   "cell_type": "code",
   "execution_count": 77,
   "id": "ac6c156d",
   "metadata": {},
   "outputs": [],
   "source": [
    "real = T3(close, timeperiod=5, vfactor=0.)"
   ]
  },
  {
   "cell_type": "markdown",
   "id": "d795cd72",
   "metadata": {},
   "source": [
    "### (15)TEMA - Triple Exponential Moving Average 三次指数移动平均线\n",
    ">函数名：TEMA  \n",
    "名称：三次指数移动平均线   \n",
    "简介：三次指数移动平均线公式可用于消除数据中短暂且不重要的周期。该公式使用指数移动平均线公式对数据进行平滑三次，然后基于前一天的结果来计算移动平均线的变动率。"
   ]
  },
  {
   "cell_type": "code",
   "execution_count": 74,
   "id": "dd1a8327",
   "metadata": {},
   "outputs": [],
   "source": [
    "real = TEMA(close, timeperiod=30)"
   ]
  },
  {
   "cell_type": "markdown",
   "id": "1e5e6105",
   "metadata": {},
   "source": [
    "### (16)TRIMA - Triangular Moving Average 三角移动平均线\n",
    ">函数名：TRIMA  \n",
    "名称：三角移动平均线   \n",
    "简介：采用数据的简单移动平均线并对第一个移动平均线应用简单移动平均线。它是一个滞后指标，始终落后于价格。三角移动平均线为中间部分的数据赋予最大的权重。"
   ]
  },
  {
   "cell_type": "code",
   "execution_count": 75,
   "id": "ffa05ed6",
   "metadata": {},
   "outputs": [],
   "source": [
    "real = TRIMA(close, timeperiod=30)"
   ]
  },
  {
   "cell_type": "markdown",
   "id": "9ee5c639",
   "metadata": {},
   "source": [
    "### (17)WMA - Weighted Moving Average 加权移动平均线\n",
    ">函数名：WMA  \n",
    "名称：加权移动平均线  \n",
    "简介：是指以每次进货的成本加上原有库存存货的成本，除以每次进货数量与原有库存存货的数量之和，据以计算加权平均单位成本，以此为基础计算当月发出存货的成本和期末存货的成本的一种方法。  "
   ]
  },
  {
   "cell_type": "code",
   "execution_count": 76,
   "id": "4273cc04",
   "metadata": {},
   "outputs": [],
   "source": [
    "real = WMA(close, timeperiod=30)"
   ]
  },
  {
   "cell_type": "markdown",
   "id": "f353f6e9",
   "metadata": {},
   "source": [
    "## 2.Momentum Indicators 动量指标\n",
    "**动量指标汇总表**\n",
    "\n",
    "| 指标                      | 函数名   | 实例                                                      |\n",
    "| :----------------------------------------------------------- | :-------- | :---------------------------------------------- |\n",
    "| Average Directional Movement Index 平均趋向指数  | ADX   | real = ADX(inputs['high'], inputs['low'], inputs['close'], timeperiod=14) |\n",
    "| Average Directional Movement Index Rating 平均趋向指标评估   | ADXR     | real = ADXR(inputs['high'], inputs['low'], inputs['close'], timeperiod=14) |\n",
    "| Absolute Price Oscillator 绝对价格振荡器                     | APO      | real = APO(close, fastperiod=12, slowperiod=26, matype=0)    |\n",
    "| Aroon 阿隆指标                                               | AROON    | aroondown, aroonup = AROON(inputs['high'], inputs['low'], timeperiod=14) |\n",
    "| Aroon Oscillator 阿隆震荡线                                  | AROONOSC | real = AROONOSC(inputs['high'], inputs['low'], timeperiod=14) |\n",
    "| Balance Of Power 均势                                        | BOP      | real = BOP(inputs['open'], inputs['high'],inputs['low'], inputs['close']) |\n",
    "| Commodity Channel Index 顺势指标                             | CCI      | real = CCI(inputs['high'],inputs['low'], inputs['close'],timeperiod=14) |\n",
    "| Chande Momentum Oscillator 钱德动量摆动指标                  | CMO      | real = CMO(close, timeperiod=14)                             |\n",
    "| Directional Movement Index DMI指标                           | DX       | real = DX(inputs['high'],inputs['low'], inputs['close'],timeperiod=14) |\n",
    "| Moving Average Convergence/Divergence 平滑异同移动平均线     | MACD     | dif, dem, histogram = MACD(close, fastperiod=12, slowperiod=26, signalperiod=9) |\n",
    "| MACD with controllable MA type 平滑异同移动平均线            | MACDEXT  | dif, dem, histogram = MACDEXT(close, fastperiod=12, fastmatype=0, slowperiod=26, slowmatype=0, signalperiod=9, signalmatype=0) |\n",
    "| Moving Average Convergence/Divergence Fix 12/26 平滑异同移动平均线 | MACDFIX  | dif, dem, histogram = MACDFIX(close, signalperiod=9)         |\n",
    "| Money Flow Index 资金流量指标                                | MFI      | real = MFI(high, low, close, volume, timeperiod=14)          |\n",
    "| Minus Directional Indicator 负方向指示器                     | MINUS_DI | real = MINUS_DI(inputs['high'],inputs['low'], inputs['close'], timeperiod=14) |\n",
    "| Minus Directional Movement 负方向移动                        | MINUS_DM | real = MINUS_DM(inputs['high'],inputs['low'], timeperiod=14) |\n",
    "| Momentum 动量                                                | MOM      | real = MOM(close, timeperiod=10)                             |\n",
    "| Plus Directional Indicator 正方向指示器                      | PLUS_DI  | real = PLUS_DI(inputs['high'],inputs['low'], inputs['close'], timeperiod=14) |\n",
    "| Plus Directional Movement 正方向移动                         | PLUS_DM  | real = PLUS_DM(inputs['high'],inputs['low'], timeperiod=14)  |\n",
    "| Percentage Price Oscillator 价格震荡百分比指数               | PPO      | real = PPO(close, fastperiod=12, slowperiod=26, matype=0)    |\n",
    "| Rate of change : ((price/prevPrice)-1)×100 变动率指标        | ROC      | real = ROC(close, timeperiod=10)                             |\n",
    "| Rate of change Percentage: (price-prevPrice)/prevPrice 变动率百分比 | ROCP     | real = ROCP(close, timeperiod=10)                            |\n",
    "| Rate of change ratio: (price/prevPrice) 变动率比例           | ROCR     | real = ROCR(close, timeperiod=10)                            |\n",
    "| Rate of change ratio 100 scale: (price/prevPrice)×100 变动率比例 100 | ROCR100  | real = ROCR100(close, timeperiod=10)                         |\n",
    "| Relative Strength Index 相对强弱指数                         | RSI      | real = RSI(close, timeperiod=14)                             |\n",
    "| Stochastic 随机指标,俗称KD                                   | STOCH    | slowk, slowd = STOCH(inputs['high'],inputs['low'], inputs['close'], fastk_period=5, slowk_period=3, slowk_matype=0, slowd_period=3, slowd_matype=0) |\n",
    "| Stochastic Fast 快速随机摆指标                               | STOCHF   | fastk, fastd = STOCHF(inputs['high'],inputs['low'], inputs['close'], fastk_period=5, fastd_period=3, fastd_matype=0) |\n",
    "| Stochastic Relative Strength Index 相对强弱指标              | STOCHRSI | fastk, fastd = STOCHRSI(close, timeperiod=14, fastk_period=5, fastd_period=3, fastd_matype=0) |\n",
    "| 1-day Rate-Of-Change (ROC) of a Triple Smooth EMA 三重平滑EMA的1日变化率 | TRIX     | real = TRIX(close, timeperiod=30)                            |\n",
    "| Ultimate Oscillator 终极波动指标                             | ULTOSC   | real = ULTOSC(inputs['high'],inputs['low'], inputs['close'], timeperiod1=7, timeperiod2=14, timeperiod3=28) |\n",
    "| Williams' %R 威廉指标                                        | WILLR    | real = WILLR(inputs['high'],inputs['low'], inputs['close'], timeperiod=14) |\n",
    "\n"
   ]
  },
  {
   "cell_type": "markdown",
   "id": "008c3448",
   "metadata": {},
   "source": [
    "### (1)ADX - Average Directional Movement Index 平均趋向指数\n",
    ">函数名：ADX  \n",
    ">名称：平均趋向指数  \n",
    ">简介：使用ADX指标，指标判断盘整、振荡和单边趋势。"
   ]
  },
  {
   "cell_type": "code",
   "execution_count": 79,
   "id": "182e9868",
   "metadata": {},
   "outputs": [],
   "source": [
    "real = ADX(inputs['high'], inputs['low'], inputs['close'], timeperiod=14)"
   ]
  },
  {
   "cell_type": "markdown",
   "id": "f9d249f1",
   "metadata": {},
   "source": [
    "###  (2) ADXR- Average Directional Movement Index Rating 平均趋向指标评估\n",
    "\n",
    ">函数名：ADXR  \n",
    ">名称：平均趋向指标评估    \n",
    ">简介：使用ADXR指标，指标判断ADX趋势。"
   ]
  },
  {
   "cell_type": "code",
   "execution_count": 81,
   "id": "c6398fc3",
   "metadata": {},
   "outputs": [],
   "source": [
    "real = ADXR(inputs['high'], inputs['low'], inputs['close'], timeperiod=14)"
   ]
  },
  {
   "cell_type": "markdown",
   "id": "996c5768",
   "metadata": {},
   "source": [
    "### (3)APO - Absolute Price Oscillator 绝对价格振荡器\n",
    "> 函数名：APO  \n",
    "名称：绝对价格振荡器  \n",
    "简介：表示两个移动平均值的差。"
   ]
  },
  {
   "cell_type": "code",
   "execution_count": 82,
   "id": "fbd48bed",
   "metadata": {},
   "outputs": [],
   "source": [
    "real = APO(close, fastperiod=12, slowperiod=26, matype=0)"
   ]
  },
  {
   "cell_type": "markdown",
   "id": "8148ef10",
   "metadata": {},
   "source": [
    "### (4)AROON - Aroon 阿隆指标\n",
    " \n",
    "> 函数名：AROON  \n",
    "> 名称：阿隆指标  \n",
    "> 简介：该指标是通过计算自价格达到近期最高值和最低值以来所经过的期间数，阿隆指标帮助预测价格趋势到趋势区域（或者反过来，从趋势区域到趋势）的变化。  "
   ]
  },
  {
   "cell_type": "code",
   "execution_count": 84,
   "id": "f8942484",
   "metadata": {},
   "outputs": [],
   "source": [
    "aroondown, aroonup = AROON(inputs['high'], inputs['low'], timeperiod=14)"
   ]
  },
  {
   "cell_type": "markdown",
   "id": "823d3c16",
   "metadata": {},
   "source": [
    "### (5)AROONOSC - Aroon Oscillator 阿隆震荡线\n",
    "\n",
    "> 函数名：AROONOSC  \n",
    "> 名称：阿隆震荡线  \n",
    "> 简介：阿隆震荡指标是一个基于趋势的指标，可以提供当前有关趋势强度以及持续或逆转可能性的线索。阿隆震荡指标由两条线组成。第一个是阿隆上行线，通常为绿线，第二个就是下行线，通常为红线。"
   ]
  },
  {
   "cell_type": "code",
   "execution_count": 85,
   "id": "c1b78afd",
   "metadata": {},
   "outputs": [],
   "source": [
    "real = AROONOSC(inputs['high'], inputs['low'], timeperiod=14)"
   ]
  },
  {
   "cell_type": "markdown",
   "id": "6fa7addf",
   "metadata": {},
   "source": [
    "### (6)BOP - Balance Of Power 均势\n",
    "\n",
    "> 函数名：BOP  \n",
    "> 名称：均势指标  \n",
    "> 简介：BOP = SMA的[收盘价–开盘价)/(最高价-最低价)]"
   ]
  },
  {
   "cell_type": "code",
   "execution_count": 86,
   "id": "dc87176e",
   "metadata": {},
   "outputs": [],
   "source": [
    "real = BOP(inputs['open'], inputs['high'],inputs['low'], inputs['close'])"
   ]
  },
  {
   "cell_type": "markdown",
   "id": "14a162c9",
   "metadata": {},
   "source": [
    "### (7)CCI - Commodity Channel Index 顺势指标 \n",
    "\n",
    "> 函数名：CCI  \n",
    "> 名称：顺势指标  \n",
    "> 简介：CCI指标专门测量股价是否已超出常态分布范围"
   ]
  },
  {
   "cell_type": "code",
   "execution_count": 88,
   "id": "1b574347",
   "metadata": {},
   "outputs": [],
   "source": [
    "real = CCI(inputs['high'],inputs['low'], inputs['close'],timeperiod=14)"
   ]
  },
  {
   "cell_type": "markdown",
   "id": "32225bd4",
   "metadata": {},
   "source": [
    "### (8)CMO - Chande Momentum Oscillator 钱德动量摆动指标\n",
    "\n",
    "> 函数名：CMO  \n",
    "> 名称：钱德动量摆动指标  \n",
    "> 简介：与其他动量指标摆动指标如相对强弱指标（RSI）和随机指标（KDJ）不同，钱德动量指标在计算公式的分子中采用上涨日和下跌日的数据。"
   ]
  },
  {
   "cell_type": "code",
   "execution_count": 89,
   "id": "af558d5e",
   "metadata": {},
   "outputs": [],
   "source": [
    "real = CMO(close, timeperiod=14)"
   ]
  },
  {
   "cell_type": "markdown",
   "id": "6b3b5fdf",
   "metadata": {},
   "source": [
    "### (9)DX - Directional Movement Index DMI指标\n",
    "\n",
    "> 函数名：DX  \n",
    "> 名称：动向指标或趋向指标  \n",
    "> 简介：通过分析股票价格在涨跌过程中买卖双方力量均衡点的变化情况，即多空双方的力量的变化受价格波动的影响而发生由均衡到失衡的循环过程，从而提供对趋势判断依据的一种技术指标。  "
   ]
  },
  {
   "cell_type": "code",
   "execution_count": 91,
   "id": "0eadca2a",
   "metadata": {},
   "outputs": [],
   "source": [
    "real = DX(inputs['high'],inputs['low'], inputs['close'],timeperiod=14)"
   ]
  },
  {
   "cell_type": "markdown",
   "id": "b8662ceb",
   "metadata": {},
   "source": [
    "### (10)MACD - Moving Average Convergence/Divergence 平滑异同移动平均线  \n",
    "\n",
    "> 函数名：MACD  \n",
    "> 名称：平滑异同移动平均线  \n",
    "> 简介：利用收盘价的短期（常用为12日）指数移动平均线与长期（常用为26日）指数移动平均线之间的聚合与分离状况，对买进、卖出时机作出研判的技术指标。"
   ]
  },
  {
   "cell_type": "code",
   "execution_count": 92,
   "id": "377acd86",
   "metadata": {},
   "outputs": [],
   "source": [
    "dif, dem, histogram = MACD(close, fastperiod=12, slowperiod=26, signalperiod=9)"
   ]
  },
  {
   "cell_type": "markdown",
   "id": "33b84296",
   "metadata": {},
   "source": [
    "### (11)MACDEXT - MACD with controllable MA type 平滑异同移动平均线\n",
    "\n",
    "> 函数名：MACDEXT  \n",
    "> 名称：平滑异同移动平均线(可控制移动平均算法)  \n",
    "> 简介：同MACD函数(固定使用EMA作为matype),并提供参数控制计算DIF, DEM时使用的移动平均算法。计算DIF时使用fastmatype与slowmatype，计算DEM时使用signalmatype，`Histogram = DIF - DEM`。matype参数详见`talib.MA_Type`与`Overlap Studies Functions 重叠研究指标`文档。  "
   ]
  },
  {
   "cell_type": "code",
   "execution_count": 93,
   "id": "178c90f9",
   "metadata": {},
   "outputs": [],
   "source": [
    "dif, dem, histogram = MACDEXT(close, fastperiod=12, fastmatype=0, slowperiod=26, slowmatype=0, signalperiod=9, signalmatype=0)"
   ]
  },
  {
   "cell_type": "markdown",
   "id": "bc7d5341",
   "metadata": {},
   "source": [
    "### (12)MACDFIX - Moving Average Convergence/Divergence Fix 12/26 平滑异同移动平均线\n",
    "\n",
    "> 函数名：MFI  \n",
    "> 名称：平滑异同移动平均线(固定快慢均线周期为12/26)  \n",
    "> 简介：同MACD函数, 固定快均线周期fastperiod=12, 慢均线周期slowperiod=26.  "
   ]
  },
  {
   "cell_type": "code",
   "execution_count": 94,
   "id": "357f150d",
   "metadata": {},
   "outputs": [],
   "source": [
    "dif, dem, histogram = MACDFIX(close, signalperiod=9)"
   ]
  },
  {
   "cell_type": "markdown",
   "id": "a43deb9a",
   "metadata": {},
   "source": [
    "### (13)MFI - Money Flow Index 资金流量指标\n",
    "\n",
    "> 函数名：MFI  \n",
    "> 名称：资金流量指标    \n",
    "> 简介：属于量价类指标，反映市场的运行趋势  "
   ]
  },
  {
   "cell_type": "code",
   "execution_count": null,
   "id": "8e31eea3",
   "metadata": {},
   "outputs": [],
   "source": [
    "real = MFI(high, low, close, volume, timeperiod=14)"
   ]
  },
  {
   "cell_type": "markdown",
   "id": "923d89fd",
   "metadata": {},
   "source": [
    "### (14)MINUS_DI - Minus Directional Indicator 负方向指示器\n",
    "\n",
    "> 函数名：MINUS_DI    \n",
    "> 名称： 负方向指示器   \n",
    "> 简介：通过分析股票价格在涨跌过程中买卖双方力量均衡点的变化情况，即多空双方的力量的变化受价格波动的影响而发生由均衡到失衡的循环过程，从而提供对趋势判断依据的一种技术指标。  "
   ]
  },
  {
   "cell_type": "code",
   "execution_count": 96,
   "id": "1ddd7c31",
   "metadata": {},
   "outputs": [],
   "source": [
    "real = MINUS_DI(inputs['high'],inputs['low'], inputs['close'], timeperiod=14)"
   ]
  },
  {
   "cell_type": "markdown",
   "id": "0f8f3b21",
   "metadata": {},
   "source": [
    "### (15)MINUS_DM - Minus Directional Movement 负方向移动\n",
    "\n",
    "> 函数名：MINUS_DM   \n",
    "> 名称： 负方向移动  \n",
    "> 简介：通过分析股票价格在涨跌过程中买卖双方力量均衡点的变化情况，即多空双方的力量的变化受价格波动的影响而发生由均衡到失衡的循环过程，从而提供对趋势判断依据的一种技术指标。  "
   ]
  },
  {
   "cell_type": "code",
   "execution_count": 99,
   "id": "5e83a273",
   "metadata": {},
   "outputs": [],
   "source": [
    "real = MINUS_DM(inputs['high'],inputs['low'], timeperiod=14)"
   ]
  },
  {
   "cell_type": "markdown",
   "id": "33293bc5",
   "metadata": {},
   "source": [
    "### (16)MOM - Momentum  动量\n",
    "\n",
    "> 函数名：MOM  \n",
    "> 名称： 动量  \n",
    "> 简介：投资学中意思为续航，指股票(或经济指数)持续增长的能力。研究发现，赢家组合在牛市中存在着正的动量效应，输家组合在熊市中存在着负的动量效应。   "
   ]
  },
  {
   "cell_type": "code",
   "execution_count": 100,
   "id": "0014c781",
   "metadata": {},
   "outputs": [],
   "source": [
    "real = MOM(close, timeperiod=10)"
   ]
  },
  {
   "cell_type": "markdown",
   "id": "5ba375e7",
   "metadata": {},
   "source": [
    "### (17)PLUS_DI - Plus Directional Indicator 正方向指示器\n",
    "\n",
    ">函数名：PLUS_DI  \n",
    "名称： 正方向指示器  \n",
    "简介：为正的趋向"
   ]
  },
  {
   "cell_type": "code",
   "execution_count": 101,
   "id": "a276ef42",
   "metadata": {},
   "outputs": [],
   "source": [
    "real = PLUS_DI(inputs['high'],inputs['low'], inputs['close'], timeperiod=14)"
   ]
  },
  {
   "cell_type": "markdown",
   "id": "52b887bf",
   "metadata": {},
   "source": [
    "### (18)PLUS_DM - Plus Directional Movement 正方向移动\n",
    "\n",
    ">函数名：PLUS_DI  \n",
    "名称： 正方向移动  \n",
    "简介：为正的趋向"
   ]
  },
  {
   "cell_type": "code",
   "execution_count": 103,
   "id": "bdf69aaf",
   "metadata": {},
   "outputs": [],
   "source": [
    "real = PLUS_DM(inputs['high'],inputs['low'], timeperiod=14)"
   ]
  },
  {
   "cell_type": "markdown",
   "id": "e6dae791",
   "metadata": {},
   "source": [
    "### (19)PPO - Percentage Price Oscillator 价格震荡百分比指数\n",
    "\n",
    "> 函数名：PPO\n",
    "> 名称： 价格震荡百分比指数  \n",
    "> 简介：价格震荡百分比指标（PPO）是一个和MACD指标非常接近的指标。  \n",
    "> PPO标准设定和MACD设定非常相似：12,26,9和PPO，和MACD一样说明了两条移动平均线的差距，但是它们有一个差别是PPO是用百分比说明。   "
   ]
  },
  {
   "cell_type": "code",
   "execution_count": 104,
   "id": "78b61b21",
   "metadata": {},
   "outputs": [],
   "source": [
    "real = PPO(close, fastperiod=12, slowperiod=26, matype=0)"
   ]
  },
  {
   "cell_type": "markdown",
   "id": "a536c597",
   "metadata": {},
   "source": [
    "### (20)ROC - Rate of change : ((price/prevPrice)-1)*100  变动率指标\n",
    "\n",
    "> 函数名：ROC   \n",
    "> 名称： 变动率指标  \n",
    "> 简介：ROC是由当天的股价与一定的天数之前的某一天股价比较，其变动速度的大小,来反映股票市变动的快慢程度  "
   ]
  },
  {
   "cell_type": "code",
   "execution_count": 105,
   "id": "114876f0",
   "metadata": {},
   "outputs": [],
   "source": [
    "real = ROC(close, timeperiod=10)"
   ]
  },
  {
   "cell_type": "markdown",
   "id": "4e82076a",
   "metadata": {},
   "source": [
    "### (21)ROCP - Rate of change Percentage: (price-prevPrice)/prevPrice 变动率百分比\n",
    "\n",
    ">函数名：ROCP  \n",
    "名称： 变动率百分比"
   ]
  },
  {
   "cell_type": "code",
   "execution_count": 106,
   "id": "ccfa78ae",
   "metadata": {},
   "outputs": [],
   "source": [
    "real = ROCP(close, timeperiod=10)"
   ]
  },
  {
   "cell_type": "markdown",
   "id": "3f34ab3e",
   "metadata": {},
   "source": [
    "### (22) ROCR - Rate of change ratio: (price/prevPrice) 变动率比例\n",
    ">函数名：ROCR  \n",
    "名称： 变动率比例"
   ]
  },
  {
   "cell_type": "code",
   "execution_count": 107,
   "id": "923c5fa6",
   "metadata": {},
   "outputs": [],
   "source": [
    "real = ROCR(close, timeperiod=10)"
   ]
  },
  {
   "cell_type": "markdown",
   "id": "6ed32c6f",
   "metadata": {},
   "source": [
    "### (23) ROCR100 - Rate of change ratio 100 scale: (price/prevPrice)*100 变动率比例 100\n",
    "\n",
    ">函数名： ROCR100  \n",
    "名称： 变动率比例"
   ]
  },
  {
   "cell_type": "code",
   "execution_count": 108,
   "id": "e5f4faa3",
   "metadata": {},
   "outputs": [],
   "source": [
    "real = ROCR100(close, timeperiod=10)"
   ]
  },
  {
   "cell_type": "markdown",
   "id": "1f3be03d",
   "metadata": {},
   "source": [
    "### (24)RSI - Relative Strength Index  相对强弱指数\n",
    "\n",
    "> 函数名：RSI  \n",
    "> 名称：相对强弱指数     \n",
    "> 简介：是通过比较一段时期内的平均收盘涨数和平均收盘跌数来分析市场买沽盘的意向和实力，从而作出未来市场的走势。   "
   ]
  },
  {
   "cell_type": "code",
   "execution_count": 109,
   "id": "da36ccb5",
   "metadata": {},
   "outputs": [],
   "source": [
    "real = RSI(close, timeperiod=14)"
   ]
  },
  {
   "cell_type": "markdown",
   "id": "121d4171",
   "metadata": {},
   "source": [
    "### (25)STOCH - Stochastic 随机指标,俗称KD \n",
    "\n",
    "> 函数名：STOCH  \n",
    "> 名称：随机指标,俗称KD   \n",
    "简介：以K线和D线的组合变化来说明市场价格变化的技术指标"
   ]
  },
  {
   "cell_type": "code",
   "execution_count": 110,
   "id": "02d97765",
   "metadata": {},
   "outputs": [],
   "source": [
    "slowk, slowd = STOCH(inputs['high'],inputs['low'], inputs['close'], fastk_period=5, slowk_period=3, slowk_matype=0, slowd_period=3, slowd_matype=0)"
   ]
  },
  {
   "cell_type": "markdown",
   "id": "82cf70f9",
   "metadata": {},
   "source": [
    "### (26) STOCHF - Stochastic Fast 快速随机摆指标\n",
    ">函数名：STOCHF  \n",
    "名称：快速随机摆指标  \n",
    "简介：是通过一段时间内出现过的最高价、最低价及收盘价计算出K和D的值，快速随机摆指标多用于中、短期买卖时机的研判。"
   ]
  },
  {
   "cell_type": "code",
   "execution_count": 111,
   "id": "3119a8d5",
   "metadata": {},
   "outputs": [],
   "source": [
    "fastk, fastd = STOCHF(inputs['high'],inputs['low'], inputs['close'], fastk_period=5, fastd_period=3, fastd_matype=0)"
   ]
  },
  {
   "cell_type": "markdown",
   "id": "4d6c87a6",
   "metadata": {},
   "source": [
    "### (27)STOCHRSI - Stochastic Relative Strength Index 相对强弱指标\n",
    ">函数名：STOCHRSI  \n",
    "名称：相对强弱指标  \n",
    "简介：是通过比较一段时期内的平均收盘涨数和平均收盘跌数来分析市场买沽盘的意向和实力，从而作出未来市场的走势"
   ]
  },
  {
   "cell_type": "code",
   "execution_count": 112,
   "id": "81d95648",
   "metadata": {},
   "outputs": [],
   "source": [
    "fastk, fastd = STOCHRSI(close, timeperiod=14, fastk_period=5, fastd_period=3, fastd_matype=0)"
   ]
  },
  {
   "cell_type": "markdown",
   "id": "a584ff07",
   "metadata": {},
   "source": [
    "### (28)TRIX - 1-day Rate-Of-Change (ROC) of a Triple Smooth EMA 三重平滑EMA的1日变化率\n",
    ">函数名：TRIX  \n",
    "名称：三重平滑EMA的1日变化率  \n",
    "简介：以K线和D线的组合变化来说明市场价格变化的技术指标"
   ]
  },
  {
   "cell_type": "code",
   "execution_count": 116,
   "id": "ecd81cdb",
   "metadata": {},
   "outputs": [],
   "source": [
    "real = TRIX(close, timeperiod=30)"
   ]
  },
  {
   "cell_type": "markdown",
   "id": "841c104d",
   "metadata": {},
   "source": [
    "### (29)ULTOSC - Ultimate Oscillator 终极波动指标 \n",
    "\n",
    "> 函数名：ULTOSC  \n",
    "> 名称：终极波动指标      \n",
    "> 简介：UOS是一种多方位功能的指标，除了趋势确认及超买超卖方面的作用之外，它的“突破”讯号不仅可以提供最适当的交易时机之外，更可以进一步加强指标的可靠度。  "
   ]
  },
  {
   "cell_type": "code",
   "execution_count": 117,
   "id": "f425b041",
   "metadata": {},
   "outputs": [],
   "source": [
    "real = ULTOSC(inputs['high'],inputs['low'], inputs['close'], timeperiod1=7, timeperiod2=14, timeperiod3=28)"
   ]
  },
  {
   "cell_type": "markdown",
   "id": "fef0a4a9",
   "metadata": {},
   "source": [
    "### (30)WILLR - Williams' %R 威廉指标\n",
    "\n",
    "> 函数名：WILLR  \n",
    "> 名称：威廉指标    \n",
    "> 简介：WMS表示的是市场处于超买还是超卖状态。股票投资分析方法主要有如下三种：基本分析、技术分析、演化分析。在实际应用中，它们既相互联系，又有重要区别。   "
   ]
  },
  {
   "cell_type": "code",
   "execution_count": 115,
   "id": "05870dfe",
   "metadata": {},
   "outputs": [],
   "source": [
    "real = WILLR(inputs['high'],inputs['low'], inputs['close'], timeperiod=14)"
   ]
  },
  {
   "cell_type": "markdown",
   "id": "b6fd5c39",
   "metadata": {},
   "source": [
    "## 3.Volume Indicators 交易量指标\n",
    "**交易量指标汇总表**  \n",
    "\n",
    "| 指标       | 函数名       | 实例        |\n",
    "| :------------- | :-------------------- | :------------------------------- |\n",
    "| Chaikin A/D Line 累积/派发线  | AD  | real = AD(high, low, close, volume) |\n",
    "| Chaikin A/D Oscillator 累积/派发摆动指标 | ADOSC  | real = ADOSC(high, low, close, volume, fastperiod=3, slowperiod=10)   |\n",
    "| On Balance Volume 能量潮    | OBV   | real = OBV(close, volume)|"
   ]
  },
  {
   "cell_type": "markdown",
   "id": "94f613b9",
   "metadata": {},
   "source": [
    "### (1) AD - Chaikin A/D Line 累积/派发线\n",
    "\n",
    "> 函数名：AD  \n",
    "> 名称：Chaikin A/D Line 累积/派发线（Accumulation/Distribution Line）  \n",
    "> 简介：Marc Chaikin提出的一种平衡交易量指标，以当日的收盘价位来估算成交流量，用于估定一段时间内该证券累积的资金流量。  \n",
    "> 计算公式：多空对比 = [（收盘价- 最低价） - （最高价 - 收盘价）] / （最高价 - 最低价)"
   ]
  },
  {
   "cell_type": "code",
   "execution_count": null,
   "id": "fefe03c9",
   "metadata": {},
   "outputs": [],
   "source": [
    "real = AD(high, low, close, volume)"
   ]
  },
  {
   "cell_type": "markdown",
   "id": "7f832972",
   "metadata": {},
   "source": [
    "### (2) ADOSC - Chaikin A/D Oscillator 累积/派发摆动指标\n",
    "\n",
    "> 函数名：ADOSC   \n",
    "> 名称：Chaikin A/D Oscillator 累积/派发摆动指标   \n",
    "> 简介：将资金流动情况与价格行为相对比，检测市场中资金流入和流出的情况   \n",
    "> 计算公式：fastperiod A/D - slowperiod A/D   \n",
    "> 研判：   \n",
    "> 1、交易信号是背离：看涨背离做多，看跌背离做空   \n",
    "> 2、股价与90天移动平均结合，与其他指标结合   \n",
    "> 3、由正变负卖出，由负变正买进   "
   ]
  },
  {
   "cell_type": "code",
   "execution_count": null,
   "id": "fc13ccac",
   "metadata": {},
   "outputs": [],
   "source": [
    "real = ADOSC(high, low, close, volume, fastperiod=3, slowperiod=10)"
   ]
  },
  {
   "cell_type": "markdown",
   "id": "4800be2f",
   "metadata": {},
   "source": [
    "### (3) OBV - On Balance Volume 能量潮 \n",
    "\n",
    "> 函数名：OBV   \n",
    "> 名称：On Balance Volume 能量潮   \n",
    "> 简介：Joe Granville提出，通过统计成交量变动的趋势推测股价趋势   \n",
    "> 计算公式：以某日为基期，逐日累计每日上市股票总成交量，若隔日指数或股票上涨\n",
    "> ，则基期OBV加上本日成交量为本日OBV。隔日指数或股票下跌，\n",
    "> 则基期OBV减去本日成交量为本日OBV   \n",
    "> 研判：   \n",
    "> 1、以“N”字型为波动单位，一浪高于一浪称“上升潮”，下跌称“跌潮”；上升潮买进，跌潮卖出   \n",
    "> 2、须配合K线图走势   \n",
    "> 3、用多空比率净额法进行修正，但不知TA-Lib采用哪种方法   \n",
    "> 计算公式： 多空比率净额= [（收盘价－最低价）－（最高价-收盘价）] ÷（ 最高价－最低价）×成交量"
   ]
  },
  {
   "cell_type": "code",
   "execution_count": null,
   "id": "586f9309",
   "metadata": {},
   "outputs": [],
   "source": [
    "real = OBV(close, volume)"
   ]
  },
  {
   "cell_type": "markdown",
   "id": "dc33bcc2",
   "metadata": {},
   "source": [
    "## 4.Volatility Indicator 波动性指标\n",
    "**波动性指标汇总表**  \n",
    "\n",
    "| 指标       | 函数名       | 实例        |\n",
    "| :------------- | :-------------------- | :------------------------------- |\n",
    "| Average True Range 真实波动幅度均值 | ATR  | real = ATR(inputs['high'], inputs['low'], inputs['close'], timeperiod=14) |\n",
    "| Normalized Average True Range 归一化波动幅度均值 | NATR  | real = NATR(inputs['high'], inputs['low'], inputs['close'], timeperiod=14) |\n",
    "| True Range 真实波幅指标   | TRANGE | real = TRANGE(inputs['high'], inputs['low'], inputs['close']) |"
   ]
  },
  {
   "cell_type": "markdown",
   "id": "6a1e0895",
   "metadata": {},
   "source": [
    "### (1)ATR - Average True Range 真实波动幅度均值\n",
    "\n",
    "> 函数名：ATR  \n",
    "> 名称：真实波动幅度均值   \n",
    "> 简介：真实波动幅度均值（ATR)是以 N 天的指数移动平均数平均後的交易波动幅度。 \n",
    "> 计算公式：一天的交易幅度只是单纯地 最大值 - 最小值。  \n",
    "> 而真实波动幅度则包含昨天的收盘价，若其在今天的幅度之外：  \n",
    "> 真实波动幅度 = max(最大值,昨日收盘价) − min(最小值,昨日收盘价) 真实波动幅度均值便是「真实波动幅度」的 N 日 指数移动平均数。  \n",
    "\n",
    "特性：：  \n",
    "\n",
    "* 波动幅度的概念表示可以显示出交易者的期望和热情。  \n",
    "* 大幅的或增加中的波动幅度表示交易者在当天可能准备持续买进或卖出股票。  \n",
    "* 波动幅度的减少则表示交易者对股市没有太大的兴趣。  "
   ]
  },
  {
   "cell_type": "code",
   "execution_count": 7,
   "id": "a6fa1bcc",
   "metadata": {},
   "outputs": [],
   "source": [
    "real = ATR(inputs['high'], inputs['low'], inputs['close'], timeperiod=14)"
   ]
  },
  {
   "cell_type": "markdown",
   "id": "07a5e97f",
   "metadata": {},
   "source": [
    "### (2)NATR - Normalized Average True Range 归一化波动幅度均值\n",
    "\n",
    "> 函数名：NATR  \n",
    "> 名称：归一化波动幅度均值   "
   ]
  },
  {
   "cell_type": "code",
   "execution_count": 9,
   "id": "131ff31a",
   "metadata": {},
   "outputs": [],
   "source": [
    "real = NATR(inputs['high'], inputs['low'], inputs['close'], timeperiod=14)"
   ]
  },
  {
   "cell_type": "markdown",
   "id": "9664b53a",
   "metadata": {},
   "source": [
    "### (3)TRANGE - True Range 真实波幅指标\n",
    "\n",
    "> 函数名：TRANGE  \n",
    "> 名称：真实波幅指标   "
   ]
  },
  {
   "cell_type": "code",
   "execution_count": 10,
   "id": "6cb384e0",
   "metadata": {},
   "outputs": [],
   "source": [
    "real = TRANGE(inputs['high'], inputs['low'], inputs['close'])"
   ]
  },
  {
   "cell_type": "markdown",
   "id": "5cd9fe77",
   "metadata": {},
   "source": [
    "## 5.Price Transform 价格变换\n",
    "**价格变换指标汇总表** \n",
    "\n",
    "| 指标       | 函数名       | 实例        |\n",
    "| :------------- | :-------------------- | :------------------------------- |\n",
    "| Average Price 平均价格 | AVGPRICE  | real = AVGPRICE(inputs['open'], inputs['high'], inputs['low'], inputs['close']) |\n",
    "| Median Price 中位数价格 | MEDPRICE  | real = MEDPRICE(inputs['high'], inputs['low']) |\n",
    "| Typical Price 代表性价格   | TYPPRICE |real = TYPPRICE(inputs['high'], inputs['low'], inputs['close'])|\n",
    "|  Weighted Close Price 加权收盘价  | WCLPRICE | real = WCLPRICE(inputs['high'], inputs['low'], inputs['close']) |"
   ]
  },
  {
   "cell_type": "markdown",
   "id": "865b955b",
   "metadata": {},
   "source": [
    "### (1) AVGPRICE - Average Price 平均价格\n",
    "\n",
    "> 函数名：AVGPRICE   \n",
    "> 名称：平均价格函数"
   ]
  },
  {
   "cell_type": "code",
   "execution_count": 12,
   "id": "ffa74cae",
   "metadata": {},
   "outputs": [],
   "source": [
    "real = AVGPRICE(inputs['open'], inputs['high'], inputs['low'], inputs['close'])"
   ]
  },
  {
   "cell_type": "markdown",
   "id": "e5945a8a",
   "metadata": {},
   "source": [
    "### (2)MEDPRICE - Median Price 中位数价格\n",
    "\n",
    "> 函数名：MEDPRICE   \n",
    "> 名称：中位数价格"
   ]
  },
  {
   "cell_type": "code",
   "execution_count": 13,
   "id": "fc9edc3d",
   "metadata": {},
   "outputs": [],
   "source": [
    "real = MEDPRICE(inputs['high'], inputs['low'])"
   ]
  },
  {
   "cell_type": "markdown",
   "id": "7a5dcfd7",
   "metadata": {},
   "source": [
    "### (3)TYPPRICE - Typical Price 代表性价格\n",
    "\n",
    "> 函数名：TYPPRICE   \n",
    "> 名称：代表性价格"
   ]
  },
  {
   "cell_type": "code",
   "execution_count": 15,
   "id": "2ffe841f",
   "metadata": {},
   "outputs": [],
   "source": [
    "real = TYPPRICE(inputs['high'], inputs['low'], inputs['close'])"
   ]
  },
  {
   "cell_type": "markdown",
   "id": "f62b95e6",
   "metadata": {},
   "source": [
    "### (4) WCLPRICE - Weighted Close Price 加权收盘价\n",
    "\n",
    "> 函数名：WCLPRICE   \n",
    "> 名称：加权收盘价"
   ]
  },
  {
   "cell_type": "code",
   "execution_count": 16,
   "id": "3b7bbfeb",
   "metadata": {},
   "outputs": [],
   "source": [
    "real = WCLPRICE(inputs['high'], inputs['low'], inputs['close'])"
   ]
  },
  {
   "cell_type": "markdown",
   "id": "65ea2a3b",
   "metadata": {},
   "source": [
    "## 6.Cycle Indicator 周期指标\n",
    "**周期指标汇总表** \n",
    "\n",
    "| 指标       | 函数名       | 实例        |\n",
    "| :------------- | :-------------------- | :------------------------------- |\n",
    "|Hilbert Transform - Dominant Cycle Period 希尔伯特变换-主导周期| HT_DCPERIOD  |real = HT_DCPERIOD(close)|\n",
    "| Hilbert Transform - Dominant Cycle Phase 希尔伯特变换-主导循环阶段 | HT_DCPHASE  | real = HT_DCPHASE(close)|\n",
    "| Hilbert Transform - Phasor Components 希尔伯特变换-希尔伯特变换相量分量   | HT_PHASOR |inphase, quadrature = HT_PHASOR(close)|\n",
    "| Hilbert Transform - SineWave 希尔伯特变换-正弦波  | HT_SINE | sine, leadsine = HT_SINE(close) |\n",
    "| Hilbert Transform - Trend vs Cycle Mode 希尔伯特变换-趋势与周期模式  | HT_TRENDMODE | integer = HT_TRENDMODE(close) |"
   ]
  },
  {
   "cell_type": "markdown",
   "id": "c91a4bfc",
   "metadata": {},
   "source": [
    "### (1)HT_DCPERIOD - Hilbert Transform - Dominant Cycle Period 希尔伯特变换-主导周期\n",
    "\n",
    "> 函数名：HT_DCPERIOD   \n",
    "> 名称： 希尔伯特变换-主导周期   \n",
    "> 简介：将价格作为信息信号，计算价格处在的周期的位置，作为择时的依据。   "
   ]
  },
  {
   "cell_type": "code",
   "execution_count": 17,
   "id": "af9d8d26",
   "metadata": {},
   "outputs": [],
   "source": [
    "real = HT_DCPERIOD(close)"
   ]
  },
  {
   "cell_type": "markdown",
   "id": "f93f30ab",
   "metadata": {},
   "source": [
    "### (2)HT_DCPHASE - Hilbert Transform - Dominant Cycle Phase 希尔伯特变换-主导循环阶段 \n",
    "\n",
    "> 函数名：HT_DCPHASE   \n",
    "> 名称： 希尔伯特变换-主导循环阶段 "
   ]
  },
  {
   "cell_type": "code",
   "execution_count": 18,
   "id": "f9d60923",
   "metadata": {},
   "outputs": [],
   "source": [
    "real = HT_DCPHASE(close)"
   ]
  },
  {
   "cell_type": "markdown",
   "id": "f92cb955",
   "metadata": {},
   "source": [
    "### (3)HT_PHASOR - Hilbert Transform - Phasor Components 希尔伯特变换-希尔伯特变换相量分量\n",
    "\n",
    "> 函数名：HT_DCPHASE   \n",
    "> 名称： 希尔伯特变换-希尔伯特变换相量分量 "
   ]
  },
  {
   "cell_type": "code",
   "execution_count": 19,
   "id": "914c0f9c",
   "metadata": {},
   "outputs": [],
   "source": [
    "inphase, quadrature = HT_PHASOR(close)"
   ]
  },
  {
   "cell_type": "markdown",
   "id": "a7ce1aeb",
   "metadata": {},
   "source": [
    "### (4)HT_SINE - Hilbert Transform - SineWave 希尔伯特变换-正弦波 \n",
    "\n",
    "> 函数名：HT_DCPHASE   \n",
    "> 名称： 希尔伯特变换-正弦波 "
   ]
  },
  {
   "cell_type": "code",
   "execution_count": 20,
   "id": "e1a2b3c8",
   "metadata": {},
   "outputs": [],
   "source": [
    "sine, leadsine = HT_SINE(close)"
   ]
  },
  {
   "cell_type": "markdown",
   "id": "f1d15b45",
   "metadata": {},
   "source": [
    "### (5)HT_TRENDMODE - Hilbert Transform - Trend vs Cycle Mode 希尔伯特变换-趋势与周期模式  \n",
    "\n",
    "> 函数名：HT_DCPHASE   \n",
    "> 名称： 希尔伯特变换-趋势与周期模式  "
   ]
  },
  {
   "cell_type": "code",
   "execution_count": 21,
   "id": "f3c862ae",
   "metadata": {},
   "outputs": [],
   "source": [
    "integer = HT_TRENDMODE(close)"
   ]
  },
  {
   "cell_type": "markdown",
   "id": "58c46d96",
   "metadata": {},
   "source": [
    "## 7.Pattern Recognition 形态识别\n",
    "**形态识别指标汇总表**\n",
    "\n",
    "| 指标       | 函数名       | 实例        |\n",
    "| :------------- | :-------------------- | :------------------------------- |\n",
    "| CDL2CROWS - Two Crows 两只乌鸦| CDL2CROWS  |integer = CDL2CROWS(open, high, low, close)|\n",
    "| CDL3BLACKCROWS - Three Black Crows 三只乌鸦| CDL3BLACKCROWS| integer = CDL3BLACKCROWS(open, high, low, close)|\n",
    "| CDL3INSIDE - Three Inside Up/Down 三内部上涨和下跌 | CDL3INSIDE  |inphase, quadrature = HT_PHASOR(close)|\n",
    "| CDL3LINESTRIKE - Three-Line Strike 三线打击  | CDL3LINESTRIKE | integer = CDL3LINESTRIKE(open, high, low, close) |\n",
    "| CDL3OUTSIDE - Three Outside Up/Down 三外部上涨和下跌  | CDL3OUTSIDE | integer = CDL3OUTSIDE(open, high, low, close) |\n",
    "| CDL3STARSINSOUTH - Three Stars In The South 南方三星| CDL3STARSINSOUTH  |integer = CDL3STARSINSOUTH(open, high, low, close)|\n",
    "| CDL3WHITESOLDIERS - Three Advancing White Soldiers 三个白兵| CDL3WHITESOLDIERS| integer = CDL3WHITESOLDIERS(open, high, low, close)|\n",
    "| CDLABANDONEDBABY - Abandoned Baby 弃婴 | CDLABANDONEDBABY  |integer = CDLABANDONEDBABY(open, high, low, close, penetration=0)|\n",
    "| CDLADVANCEBLOCK - Advance Block 大敌当前 | CDLADVANCEBLOCK | integer = CDLADVANCEBLOCK(open, high, low, close)|\n",
    "| CDLBELTHOLD - Belt-hold  CDLBELTHOLD 捉腰带线| CDLBELTHOLD | integer = CDLBELTHOLD(open, high, low, close)|\n",
    "| CDLBREAKAWAY - Breakaway 脱离| CDLBREAKAWAY  |integer = CDLBREAKAWAY(open, high, low, close)|\n",
    "| CDLCLOSINGMARUBOZU - Closing Marubozu​ 收盘缺影线| CDLCLOSINGMARUBOZU| integer = CDLCLOSINGMARUBOZU(open, high, low, close)|\n",
    "|CDLCONCEALBABYSWALL - Concealing Baby Swallow  藏婴吞没 | CDLCONCEALBABYSWALL  |integer = CDLCONCEALBABYSWALL(open, high, low, close)|\n",
    "| CDLCOUNTERATTACK - Counterattack 反击线  | CDLCOUNTERATTACK | integer = CDLCOUNTERATTACK(open, high, low, close) |\n",
    "|CDLDARKCLOUDCOVER - Dark Cloud Cover  乌云压顶| CDLDARKCLOUDCOVER | integer = CDLDARKCLOUDCOVER(open, high, low, close, penetration=0) |\n",
    "|CDLDOJI - Doji 十字| CDLDOJI  |integer = CDLDOJI(open, high, low, close)|\n",
    "| CDLDOJISTAR - Doji Star 十字星| CDLDOJISTAR|integer = CDLDOJISTAR(open, high, low, close)|\n",
    "| CDLDRAGONFLYDOJI - Dragonfly 蜻蜓十字/T形十字 | CDLDRAGONFLYDOJI  |integer = CDLDRAGONFLYDOJI(open, high, low, close)|\n",
    "| CDLENGULFING - Engulfing Pattern 吞噬模式 | CDLENGULFING | integer = CDLENGULFING(open, high, low, close) |\n",
    "|CDLEVENINGDOJISTAR - Evening Doji Star 十字暮星 | CDLEVENINGDOJISTAR |integer = CDLEVENINGDOJISTAR(open, high, low, close, penetration=0)|\n",
    "| CDLEVENINGSTAR - Evening Star 暮星| CDLEVENINGSTAR  |integer = CDLEVENINGSTAR(open, high, low, close, penetration=0)|\n",
    "| CCDLGAPSIDESIDEWHITE - Up/Down-gap side-by-side white lines向上/下跳空并列阳线| CCDLGAPSIDESIDEWHITE| integer = CDLGAPSIDESIDEWHITE(open, high, low, close)|\n",
    "| CDLGRAVESTONEDOJI - Gravestone Doji 墓碑十字/倒T十字| CDLGRAVESTONEDOJI  |integer = CDLGRAVESTONEDOJI(open, high, low, close)|\n",
    "| CDLHAMMER - Hammer 锤头 | CDLHAMMER | integer = CDLHAMMER(open, high, low, close)|\n",
    "| CDLHANGINGMAN - Hanging Man 母子线 | CDLHANGINGMAN | integer = CDLHANGINGMAN(open, high, low, close) |\n",
    "| CDLHARAMICROSS - Harami Cross Pattern 十字孕线 | CDLHARAMICROSS  |integer = CDLHARAMICROSS(open, high, low, close)|\n",
    "| CDLHIGHWAVE - High-Wave Candle 风高浪大线| CDLHIGHWAVE| integer = CDLHIGHWAVE(open, high, low, close)|\n",
    "| CDLHIKKAKE - Hikkake Pattern 陷阱| CDLHIKKAKE  |integer = CDLHIKKAKE(open, high, low, close)|\n",
    "| CDLHIKKAKEMOD - Modified Hikkake Pattern 修正陷阱 | CDLHIKKAKEMOD | integer = CDLHIKKAKEMOD(open, high, low, close)|\n",
    "| CDLHOMINGPIGEON - Homing Pigeon 家鸽| CDLHOMINGPIGEON | integer = CDLHOMINGPIGEON(open, high, low, close)|\n",
    "| CDLIDENTICAL3CROWS - Identical Three Crows 三胞胎乌鸦| CDLIDENTICAL3CROWS  |integer = CDLIDENTICAL3CROWS(open, high, low, close)|\n",
    "| CDLINNECK - In-Neck Pattern 颈内线| CDLINNECK| integer = CDLINNECK(open, high, low, close)|\n",
    "|CDLINVERTEDHAMMER - Inverted Hammer 倒锤头| CDLINVERTEDHAMMER  |integer = CDLINVERTEDHAMMER(open, high, low, close)|\n",
    "| CDLKICKING - Kicking 反冲形态 | CDLKICKING | integer = CDLKICKING(open, high, low, close) |\n",
    "|CDLKICKINGBYLENGTH - Kicking - bull/bear determined by the longer marubozu 由较长缺影线决定的反冲形态| CDLKICKINGBYLENGTH | integer = CDLKICKINGBYLENGTH(open, high, low, close) |\n",
    "|CDLLADDERBOTTOM - Ladder Bottom  梯底| CDLLADDERBOTTOM  |integer = CDLLADDERBOTTOM(open, high, low, close)|\n",
    "| CDLLONGLEGGEDDOJI - Long Legged Doji 长脚十字| CDLLONGLEGGEDDOJI|integer = CDLLONGLEGGEDDOJI(open, high, low, close)|\n",
    "| CDLLONGLINE - Long Line Candle  长蜡烛| CDLLONGLINE  |integer = CDLLONGLINE(open, high, low, close)|\n",
    "| CDLMARUBOZU - Marubozu 光头光脚/缺影线| CDLMARUBOZU | integer = CDLMARUBOZU(open, high, low, close) |\n",
    "|CDLMATCHINGLOW - Matching Low 相同低价| CDLMATCHINGLOW |integer = CDLMATCHINGLOW(open, high, low, close)|\n",
    "|CDLMATHOLD - Mat Hold 铺垫| CDLMATHOLD  |integer = CDLMATHOLD(open, high, low, close, penetration=0)|\n",
    "| CDLMORNINGDOJISTAR - Morning Doji Star 十字晨星| CDLMORNINGDOJISTAR | integer = CDLMORNINGDOJISTAR(open, high, low, close, penetration=0) |\n",
    "|CDLMORNINGSTAR - Morning Star 晨星| CDLMORNINGSTAR | integer = CDLMORNINGSTAR(open, high, low, close, penetration=0) |\n",
    "|CDLONNECK - On-Neck Pattern 颈上线| CDLONNECK  |integer = CDLONNECK(open, high, low, close)|\n",
    "| CDLPIERCING - Piercing Pattern 刺透形态| CDLPIERCING|integer = CDLPIERCING(open, high, low, close)|\n",
    "| CDLRICKSHAWMAN - Rickshaw Man 黄包车夫| CDLRICKSHAWMAN  |integer = CDLRICKSHAWMAN(open, high, low, close)|\n",
    "|CDLRISEFALL3METHODS - Rising/Falling Three Methods 上升/下降三法| CDLRISEFALL3METHODS | integer = CDLRISEFALL3METHODS(open, high, low, close)|\n",
    "|CDLSEPARATINGLINES - Separating Lines 分离线| CDLSEPARATINGLINES |integer = CDLSEPARATINGLINES(open, high, low, close)|\n",
    "|CDLSHOOTINGSTAR - Shooting Star 射击之星| CDLSHOOTINGSTAR  |integer = CDLSHOOTINGSTAR(open, high, low, close)|\n",
    "|CDLSHORTLINE - Short Line Candle 短蜡烛| CDLSHORTLINE | integer = CDLSHORTLINE(open, high, low, close)|\n",
    "|CDLSPINNINGTOP - Spinning Top 纺锤| CDLSPINNINGTOP | integer = CDLSPINNINGTOP(open, high, low, close) |\n",
    "|CDLSTALLEDPATTERN - Stalled Pattern 停顿状态| CDLSTALLEDPATTERN  |integer = CDLSTALLEDPATTERN(open, high, low, close)|\n",
    "| CDLSTICKSANDWICH - Stick Sandwich 条形三明治| CDLSTICKSANDWICH|integer = CDLSTICKSANDWICH(open, high, low, close)|\n",
    "| CDLTAKURI - Takuri (Dragonfly Doji with very long lower shadow) 探水竿 | CDLTAKURI  |integer = CDLTAKURI(open, high, low, close)|\n",
    "|CDLTASUKIGAP - Tasuki Gap 跳空并列阴阳线| CDLTASUKIGAP | integer = CDLTASUKIGAP(open, high, low, close)|\n",
    "|CDLTHRUSTING - Thrusting Pattern 插入| CDLTHRUSTING |integer = CDLTHRUSTING(open, high, low, close)|\n",
    "|CDLTRISTAR - Tristar Pattern 三星| CDLTRISTAR  |integer = CDLTRISTAR(open, high, low, close)|\n",
    "|CDLUNIQUE3RIVER - Unique 3 River 奇特三河床| CDLUNIQUE3RIVER |integer = CDLUNIQUE3RIVER(open, high, low, close)|\n",
    "|CDLUPSIDEGAP2CROWS - Upside Gap Two Crows 向上跳空的两只乌鸦| CDLUPSIDEGAP2CROWS | integer = CDLUPSIDEGAP2CROWS(open, high, low, close) |\n",
    "|CDLXSIDEGAP3METHODS - Upside/Downside Gap Three Methods 上升/下降跳空三法| CDLXSIDEGAP3METHODS  |integer = CDLXSIDEGAP3METHODS(open, high, low, close)|\n"
   ]
  },
  {
   "cell_type": "markdown",
   "id": "f8ba50bf",
   "metadata": {},
   "source": [
    "### (1)CDL2CROWS - Two Crows 两只乌鸦\n",
    "\n",
    "> 函数名：CDL2CROWS   \n",
    "> 名称：Two Crows 两只乌鸦   \n",
    "> 简介：三日K线模式，第一天长阳，第二天高开收阴，第三天再次高开继续收阴，收盘比前一日收盘价低，预示股价下跌。"
   ]
  },
  {
   "cell_type": "code",
   "execution_count": 9,
   "id": "5f7a14ca",
   "metadata": {},
   "outputs": [],
   "source": [
    "integer = CDL2CROWS(inputs['open'], inputs['high'], inputs['low'], inputs['close'])"
   ]
  },
  {
   "cell_type": "markdown",
   "id": "1a39223c",
   "metadata": {},
   "source": [
    "### (2)CDL3BLACKCROWS - Three Black Crows 三只乌鸦  \n",
    "\n",
    "> 函数名：CDL3BLACKCROWS   \n",
    "> 名称：Three Black Crows 三只乌鸦   \n",
    "> 简介：三日K线模式，连续三根阴线，每日收盘价都下跌且接近最低价，每日开盘价都在上根K线实体内，预示股价下跌。   "
   ]
  },
  {
   "cell_type": "code",
   "execution_count": 11,
   "id": "ce2bc318",
   "metadata": {},
   "outputs": [],
   "source": [
    "integer = CDL3BLACKCROWS(inputs['open'], inputs['high'], inputs['low'], inputs['close'])"
   ]
  },
  {
   "cell_type": "markdown",
   "id": "9d4f4ac6",
   "metadata": {},
   "source": [
    "### (3)CDL3INSIDE - Three Inside Up/Down 三内部上涨和下跌\n",
    "\n",
    "> 函数名：CDL3INSIDE   \n",
    "> 名称： Three Inside Up/Down 三内部上涨和下跌   \n",
    "> 简介：三日K线模式，母子信号+长K线，以三内部上涨为例，K线为阴阳阳，第三天收盘价高于第一天开盘价，第二天K线在第一天K线内部，预示着股价上涨。"
   ]
  },
  {
   "cell_type": "code",
   "execution_count": 12,
   "id": "7875c129",
   "metadata": {},
   "outputs": [],
   "source": [
    "integer = CDL3INSIDE(inputs['open'], inputs['high'], inputs['low'], inputs['close'])"
   ]
  },
  {
   "cell_type": "markdown",
   "id": "48dfa467",
   "metadata": {},
   "source": [
    "### (4)CDL3LINESTRIKE - Three-Line Strike 三线打击\n",
    " \n",
    "> 函数名：CDL3LINESTRIKE   \n",
    "> 名称： Three-Line Strike 三线打击   \n",
    "> 简介：四日K线模式，前三根阳线，每日收盘价都比前一日高，开盘价在前一日实体内，第四日市场高开，收盘价低于第一日开盘价，预示股价下跌。"
   ]
  },
  {
   "cell_type": "code",
   "execution_count": 13,
   "id": "91dae702",
   "metadata": {},
   "outputs": [],
   "source": [
    "integer = CDL3LINESTRIKE(inputs['open'], inputs['high'], inputs['low'], inputs['close'])"
   ]
  },
  {
   "cell_type": "markdown",
   "id": "3a3a39e4",
   "metadata": {},
   "source": [
    "### (5) CDL3OUTSIDE - Three Outside Up/Down 三外部上涨和下跌   \n",
    "\n",
    "> 函数名：CDL3OUTSIDE  \n",
    "> 名称：Three Outside Up/Down 三外部上涨和下跌   \n",
    "> 简介：三日K线模式，与三内部上涨和下跌类似，K线为阴阳阳，但第一日与第二日的K线形态相反，以三外部上涨为例，第一日K线在第二日K线内部，预示着股价上涨。  "
   ]
  },
  {
   "cell_type": "code",
   "execution_count": 15,
   "id": "f9a90cc8",
   "metadata": {},
   "outputs": [],
   "source": [
    "integer = CDL3OUTSIDE(inputs['open'], inputs['high'], inputs['low'], inputs['close'])"
   ]
  },
  {
   "cell_type": "markdown",
   "id": "4113b1be",
   "metadata": {},
   "source": [
    "### (6)CDL3STARSINSOUTH - Three Stars In The South 南方三星 \n",
    "\n",
    "> 函数名：CDL3STARSINSOUTH  \n",
    "> 名称：Three Stars In The South 南方三星  \n",
    "> 简介：三日K线模式，与大敌当前相反，三日K线皆阴，第一日有长下影线，第二日与第一日类似，K线整体小于第一日，第三日无下影线实体信号，成交价格都在第一日振幅之内，预示下跌趋势反转，股价上升。 "
   ]
  },
  {
   "cell_type": "code",
   "execution_count": 16,
   "id": "ea90b0e4",
   "metadata": {},
   "outputs": [],
   "source": [
    "integer = CDL3STARSINSOUTH(inputs['open'], inputs['high'], inputs['low'], inputs['close'])"
   ]
  },
  {
   "cell_type": "markdown",
   "id": "0eb584d9",
   "metadata": {},
   "source": [
    "### (7)CDL3WHITESOLDIERS - Three Advancing White Soldiers 三个白兵\n",
    "\n",
    "> 函数名：CDL3WHITESOLDIERS   \n",
    "> 名称：Three Advancing White Soldiers 三个白兵  \n",
    "> 简介：三日K线模式，三日K线皆阳，每日收盘价变高且接近最高价，开盘价在前一日实体上半部，预示股价上升。"
   ]
  },
  {
   "cell_type": "code",
   "execution_count": 17,
   "id": "c6e75c10",
   "metadata": {},
   "outputs": [],
   "source": [
    "integer = CDL3WHITESOLDIERS(inputs['open'], inputs['high'], inputs['low'], inputs['close'])"
   ]
  },
  {
   "cell_type": "markdown",
   "id": "59d59d39",
   "metadata": {},
   "source": [
    "### (8)CDLABANDONEDBABY - Abandoned Baby 弃婴\n",
    " \n",
    "> 函数名：CDLABANDONEDBABY  \n",
    "> 名称：Abandoned Baby 弃婴  \n",
    "> 简介：三日K线模式，第二日价格跳空且收十字星（开盘价与收盘价接近，最高价最低价相差不大），预示趋势反转，发生在顶部下跌，底部上涨。  "
   ]
  },
  {
   "cell_type": "code",
   "execution_count": 19,
   "id": "2d41f58d",
   "metadata": {},
   "outputs": [],
   "source": [
    "integer = CDLABANDONEDBABY(inputs['open'], inputs['high'], inputs['low'], inputs['close'], penetration=0.)"
   ]
  },
  {
   "cell_type": "markdown",
   "id": "2b9eb042",
   "metadata": {},
   "source": [
    "### (9)CDLADVANCEBLOCK - Advance Block 大敌当前\n",
    "\n",
    "> 函数名：CDLADVANCEBLOCK   \n",
    "> 名称：Advance Block 大敌当前   \n",
    "> 简介：三日K线模式，三日都收阳，每日收盘价都比前一日高，开盘价都在前一日实体以内，实体变短，上影线变长。   "
   ]
  },
  {
   "cell_type": "code",
   "execution_count": 20,
   "id": "fe3d9347",
   "metadata": {},
   "outputs": [],
   "source": [
    "integer = CDLADVANCEBLOCK(inputs['open'], inputs['high'], inputs['low'], inputs['close'])"
   ]
  },
  {
   "cell_type": "markdown",
   "id": "5fa095c6",
   "metadata": {},
   "source": [
    "### (10)CDLBELTHOLD - Belt-hold 捉腰带线\n",
    "\n",
    "> 函数名：CDLBELTHOLD   \n",
    "> 名称：Belt-hold 捉腰带线   \n",
    "> 简介：两日K线模式，下跌趋势中，第一日阴线，第二日开盘价为最低价，阳线，收盘价接近最高价，预示价格上涨。   \n"
   ]
  },
  {
   "cell_type": "code",
   "execution_count": 21,
   "id": "55898f2f",
   "metadata": {},
   "outputs": [],
   "source": [
    "integer = CDLBELTHOLD(inputs['open'], inputs['high'], inputs['low'], inputs['close'])"
   ]
  },
  {
   "cell_type": "markdown",
   "id": "32164149",
   "metadata": {},
   "source": [
    "### (11)CDLBREAKAWAY - Breakaway 脱离 \n",
    "\n",
    "> 函数名：CDLBREAKAWAY  \n",
    "> 名称：Breakaway 脱离  \n",
    "> 简介：五日K线模式，以看涨脱离为例，下跌趋势中，第一日长阴线，第二日跳空阴线，延续趋势开始震荡，第五日长阳线，收盘价在第一天收盘价与第二天开盘价之间，预示价格上涨。   "
   ]
  },
  {
   "cell_type": "code",
   "execution_count": 22,
   "id": "920ff673",
   "metadata": {},
   "outputs": [],
   "source": [
    "integer = CDLBREAKAWAY(inputs['open'], inputs['high'], inputs['low'], inputs['close'])"
   ]
  },
  {
   "cell_type": "markdown",
   "id": "681a21f1",
   "metadata": {},
   "source": [
    "### (12)CDLCLOSINGMARUBOZU - Closing Marubozu 收盘缺影线  \n",
    "\n",
    "> 函数名：CDLCLOSINGMARUBOZU   \n",
    "> 名称：Closing Marubozu 收盘缺影线  \n",
    "> 简介：一日K线模式，以阳线为例，最低价低于开盘价，收盘价等于最高价，预示着趋势持续。"
   ]
  },
  {
   "cell_type": "code",
   "execution_count": 23,
   "id": "0eab8da5",
   "metadata": {},
   "outputs": [],
   "source": [
    "integer = CDLCLOSINGMARUBOZU(inputs['open'], inputs['high'], inputs['low'], inputs['close'])"
   ]
  },
  {
   "cell_type": "markdown",
   "id": "9f1f5eba",
   "metadata": {},
   "source": [
    "### (13)CDLCONCEALBABYSWALL - Concealing Baby Swallow 藏婴吞没 \n",
    "\n",
    "> 函数名：CDLCONCEALBABYSWALL   \n",
    "> 名称： Concealing Baby Swallow 藏婴吞没   \n",
    "> 简介：四日K线模式，下跌趋势中，前两日阴线无影线，第二日开盘、收盘价皆低于第二日，第三日倒锤头，第四日开盘价高于前一日最高价，收盘价低于前一日最低价，预示着底部反转。   "
   ]
  },
  {
   "cell_type": "code",
   "execution_count": 24,
   "id": "3ef78925",
   "metadata": {},
   "outputs": [],
   "source": [
    "integer = CDLCONCEALBABYSWALL(inputs['open'], inputs['high'], inputs['low'], inputs['close'])"
   ]
  },
  {
   "cell_type": "markdown",
   "id": "75203197",
   "metadata": {},
   "source": [
    "### (14)CDLCOUNTERATTACK - Counterattack 反击线 \n",
    "\n",
    "> 函数名：CDLCOUNTERATTACK  \n",
    "> 名称：Counterattack 反击线  \n",
    "> 简介：二日K线模式，与分离线类似。  "
   ]
  },
  {
   "cell_type": "code",
   "execution_count": 25,
   "id": "91e3f557",
   "metadata": {},
   "outputs": [],
   "source": [
    "integer = CDLCOUNTERATTACK(inputs['open'], inputs['high'], inputs['low'], inputs['close'])"
   ]
  },
  {
   "cell_type": "markdown",
   "id": "35d46f22",
   "metadata": {},
   "source": [
    "### (15)CDLDARKCLOUDCOVER - Dark Cloud Cover 乌云压顶\n",
    "\n",
    "> 函数名：CDLDARKCLOUDCOVER  \n",
    "> 名称：Dark Cloud Cover 乌云压顶  \n",
    "> 简介：二日K线模式，第一日长阳，第二日开盘价高于前一日最高价，收盘价处于前一日实体中部以下，预示着股价下跌。  "
   ]
  },
  {
   "cell_type": "code",
   "execution_count": 26,
   "id": "5f27b9bd",
   "metadata": {},
   "outputs": [],
   "source": [
    "integer = CDLDARKCLOUDCOVER(inputs['open'], inputs['high'], inputs['low'], inputs['close'],penetration=0.)"
   ]
  },
  {
   "cell_type": "markdown",
   "id": "a2cdd294",
   "metadata": {},
   "source": [
    "### (16)CDLDOJI - Doji 十字 \n",
    "\n",
    "> 函数名：CDLDOJI  \n",
    "> 名称：Doji 十字  \n",
    "> 简介：一日K线模式，开盘价与收盘价基本相同。  "
   ]
  },
  {
   "cell_type": "code",
   "execution_count": 27,
   "id": "24b73f3b",
   "metadata": {},
   "outputs": [],
   "source": [
    "integer = CDLDOJI(inputs['open'], inputs['high'], inputs['low'], inputs['close'])"
   ]
  },
  {
   "cell_type": "markdown",
   "id": "5355eba4",
   "metadata": {},
   "source": [
    "### (17)CDLDOJISTAR - Doji Star 十字星 \n",
    "\n",
    "> 函数名：CDLDOJISTAR  \n",
    "> 名称：Doji Star 十字星  \n",
    "> 简介：一日K线模式，开盘价与收盘价基本相同，上下影线不会很长，预示着当前趋势反转。  "
   ]
  },
  {
   "cell_type": "code",
   "execution_count": 28,
   "id": "89c99c02",
   "metadata": {},
   "outputs": [],
   "source": [
    "integer = CDLDOJISTAR(inputs['open'], inputs['high'], inputs['low'], inputs['close'])"
   ]
  },
  {
   "cell_type": "markdown",
   "id": "b06648f3",
   "metadata": {},
   "source": [
    "### (18)CDLDRAGONFLYDOJI - Dragonfly Doji 蜻蜓十字/T形十字 \n",
    "\n",
    "> 函数名：CDLDRAGONFLYDOJI  \n",
    "> 名称：Dragonfly Doji 蜻蜓十字/T形十字  \n",
    "> 简介：一日K线模式，开盘后价格一路走低，之后收复，收盘价与开盘价相同，预示趋势反转。  "
   ]
  },
  {
   "cell_type": "code",
   "execution_count": 29,
   "id": "20e01614",
   "metadata": {},
   "outputs": [],
   "source": [
    "integer = CDLDRAGONFLYDOJI(inputs['open'], inputs['high'], inputs['low'], inputs['close'])"
   ]
  },
  {
   "cell_type": "markdown",
   "id": "32e9fd20",
   "metadata": {},
   "source": [
    "### (19)CDLENGULFING - Engulfing Pattern 吞噬模式 \n",
    "\n",
    "> 函数名：CDLENGULFING  \n",
    "> 名称：Engulfing Pattern 吞噬模式  \n",
    "> 简介：两日K线模式，分多头吞噬和空头吞噬，以多头吞噬为例，第一日为阴线，第二日阳线，第一日的开盘价和收盘价在第二日开盘价收盘价之内，但不能完全相同。  "
   ]
  },
  {
   "cell_type": "code",
   "execution_count": 30,
   "id": "95e48ed8",
   "metadata": {},
   "outputs": [],
   "source": [
    "integer = CDLENGULFING(inputs['open'], inputs['high'], inputs['low'], inputs['close'])"
   ]
  },
  {
   "cell_type": "markdown",
   "id": "328c515d",
   "metadata": {},
   "source": [
    "### (20)CDLEVENINGDOJISTAR - Evening Doji Star 十字暮星  \n",
    "\n",
    "> 函数名：CDLEVENINGDOJISTAR  \n",
    "> 名称：Evening Doji Star 十字暮星  \n",
    "> 简介：三日K线模式，基本模式为暮星，第二日收盘价和开盘价相同，预示顶部反转。  "
   ]
  },
  {
   "cell_type": "code",
   "execution_count": 31,
   "id": "5dbfab41",
   "metadata": {},
   "outputs": [],
   "source": [
    "integer = CDLEVENINGDOJISTAR(inputs['open'], inputs['high'], inputs['low'], inputs['close'], penetration=0.)"
   ]
  },
  {
   "cell_type": "markdown",
   "id": "03c7aa46",
   "metadata": {},
   "source": [
    "### (21)CDLEVENINGSTAR - Evening Star 暮星 \n",
    "\n",
    "> 函数名：CDLEVENINGSTAR 暮星 \n",
    "> 名称：Evening Star 暮星  \n",
    "> 简介：三日K线模式，与晨星相反，上升趋势中,第一日阳线，第二日价格振幅较小，第三日阴线，预示顶部反转。  "
   ]
  },
  {
   "cell_type": "code",
   "execution_count": 32,
   "id": "8cd9be2d",
   "metadata": {},
   "outputs": [],
   "source": [
    "integer = CDLEVENINGSTAR(inputs['open'], inputs['high'], inputs['low'], inputs['close'], penetration=0.)"
   ]
  },
  {
   "cell_type": "markdown",
   "id": "2755913c",
   "metadata": {},
   "source": [
    "### (22)CDLGAPSIDESIDEWHITE - Up/Down-gap side-by-side white lines 向上/下跳空并列阳线  \n",
    "\n",
    ">函数名：CDLGAPSIDESIDEWHITE  \n",
    ">名称：Up/Down-gap side-by-side white lines 向上/下跳空并列阳线  \n",
    ">简介：二日K线模式，上升趋势向上跳空，下跌趋势向下跳空,第一日与第二日有相同开盘价，实体长度差不多，则趋势持续。  "
   ]
  },
  {
   "cell_type": "code",
   "execution_count": 33,
   "id": "a8bb912d",
   "metadata": {},
   "outputs": [],
   "source": [
    "integer = CDLGAPSIDESIDEWHITE(inputs['open'], inputs['high'], inputs['low'], inputs['close'])"
   ]
  },
  {
   "cell_type": "markdown",
   "id": "a90aea8f",
   "metadata": {},
   "source": [
    "### (23)CDLGRAVESTONEDOJI - Gravestone Doji 墓碑十字/倒T十字 \n",
    "\n",
    "> 函数名：CDLGRAVESTONEDOJI  \n",
    "> 名称：Gravestone Doji 墓碑十字/倒T十字  \n",
    "> 简介：一日K线模式，开盘价与收盘价相同，上影线长，无下影线，预示底部反转。  "
   ]
  },
  {
   "cell_type": "code",
   "execution_count": 34,
   "id": "13ccca1e",
   "metadata": {},
   "outputs": [],
   "source": [
    "integer = CDLGRAVESTONEDOJI(inputs['open'], inputs['high'], inputs['low'], inputs['close'])"
   ]
  },
  {
   "cell_type": "markdown",
   "id": "e4380a16",
   "metadata": {},
   "source": [
    "### （24）CDLHAMMER - Hammer 锤头 \n",
    "\n",
    "> 函数名：CDLHAMMER  \n",
    "> 名称：Hammer 锤头  \n",
    "> 简介：一日K线模式，实体较短，无上影线，下影线大于实体长度两倍，处于下跌趋势底部，预示反转。  "
   ]
  },
  {
   "cell_type": "code",
   "execution_count": 35,
   "id": "688eefa1",
   "metadata": {},
   "outputs": [],
   "source": [
    "integer = CDLHAMMER(inputs['open'], inputs['high'], inputs['low'], inputs['close'])"
   ]
  },
  {
   "cell_type": "markdown",
   "id": "bddfa177",
   "metadata": {},
   "source": [
    "### (25)CDLHANGINGMAN - Hanging Man 上吊线\n",
    "\n",
    "> 函数名：CDLHANGINGMAN  \n",
    "> 名称：Hanging Man 上吊线  \n",
    "> 简介：一日K线模式，形状与锤子类似，处于上升趋势的顶部，预示着趋势反转。  "
   ]
  },
  {
   "cell_type": "code",
   "execution_count": 36,
   "id": "1a8f500a",
   "metadata": {},
   "outputs": [],
   "source": [
    "integer = CDLHANGINGMAN(inputs['open'], inputs['high'], inputs['low'], inputs['close'])"
   ]
  },
  {
   "cell_type": "markdown",
   "id": "8e37a6d9",
   "metadata": {},
   "source": [
    "### (26)CDLHARAMI - Harami Pattern 母子线  \n",
    "\n",
    "> 函数名：CDLHARAMI  \n",
    "> 名称：Harami Pattern 母子线  \n",
    "> 简介：二日K线模式，分多头母子与空头母子，两者相反，以多头母子为例，在下跌趋势中，第一日K线长阴，第二日开盘价收盘价在第一日价格振幅之内，为阳线，预示趋势反转，股价上升。  "
   ]
  },
  {
   "cell_type": "code",
   "execution_count": 37,
   "id": "db42aa59",
   "metadata": {},
   "outputs": [],
   "source": [
    "integer = CDLHARAMI(inputs['open'], inputs['high'], inputs['low'], inputs['close'])"
   ]
  },
  {
   "cell_type": "markdown",
   "id": "209e14f2",
   "metadata": {},
   "source": [
    "### (27)CDLHARAMICROSS - Harami Cross Pattern 十字孕线  \n",
    "\n",
    "> 函数名：CDLHARAMICROSS  \n",
    "> 名称：Harami Cross Pattern 十字孕线  \n",
    "> 简介：二日K线模式，与母子县类似，若第二日K线是十字线，便称为十字孕线，预示着趋势反转。  "
   ]
  },
  {
   "cell_type": "code",
   "execution_count": 38,
   "id": "a184572e",
   "metadata": {},
   "outputs": [],
   "source": [
    "integer = CDLHARAMICROSS(inputs['open'], inputs['high'], inputs['low'], inputs['close'])"
   ]
  },
  {
   "cell_type": "markdown",
   "id": "161d9ff3",
   "metadata": {},
   "source": [
    "### (28)CDLHIGHWAVE - High-Wave Candle 风高浪大线\n",
    "\n",
    "> 函数名：CDLHIGHWAVE  \n",
    "> 名称：High-Wave Candle 风高浪大线  \n",
    "> 简介：三日K线模式，具有极长的上/下影线与短的实体，预示着趋势反转。  "
   ]
  },
  {
   "cell_type": "code",
   "execution_count": 39,
   "id": "45717e35",
   "metadata": {},
   "outputs": [],
   "source": [
    "integer = CDLHIGHWAVE(inputs['open'], inputs['high'], inputs['low'], inputs['close'])"
   ]
  },
  {
   "cell_type": "markdown",
   "id": "e4b0cb6d",
   "metadata": {},
   "source": [
    "### (29)CDLHIKKAKE - Hikkake Pattern 陷阱 \n",
    "\n",
    "> 函数名：CDLHIKKAKE  \n",
    "> 名称：Hikkake Pattern 陷阱  \n",
    "> 简介：三日K线模式，与母子类似，第二日价格在前一日实体范围内,第三日收盘价高于前两日，反转失败，趋势继续。  "
   ]
  },
  {
   "cell_type": "code",
   "execution_count": 40,
   "id": "5b851109",
   "metadata": {},
   "outputs": [],
   "source": [
    "integer = CDLHIKKAKE(inputs['open'], inputs['high'], inputs['low'], inputs['close'])"
   ]
  },
  {
   "cell_type": "markdown",
   "id": "af400be8",
   "metadata": {},
   "source": [
    "### (30)CDLHIKKAKEMOD - Modified Hikkake Pattern 修正陷阱  \n",
    "\n",
    "> 函数名：CDLHIKKAKEMOD  \n",
    "> 名称：Modified Hikkake Pattern 修正陷阱  \n",
    "> 简介：三日K线模式，与陷阱类似，上升趋势中，第三日跳空高开；下跌趋势中，第三日跳空低开，反转失败，趋势继续。"
   ]
  },
  {
   "cell_type": "code",
   "execution_count": 41,
   "id": "415e8a3c",
   "metadata": {},
   "outputs": [],
   "source": [
    "integer = CDLHIKKAKEMOD(inputs['open'], inputs['high'], inputs['low'], inputs['close'])"
   ]
  },
  {
   "cell_type": "markdown",
   "id": "7791dcd2",
   "metadata": {},
   "source": [
    "### (31)CDLHOMINGPIGEON - Homing Pigeon  家鸽  \n",
    "\n",
    "> 函数名：CDLHOMINGPIGEON  \n",
    "> 名称：Homing Pigeon 家鸽  \n",
    "> 简介：二日K线模式，与母子线类似，不同的的是二日K线颜色相同，第二日最高价、最低价都在第一日实体之内，预示着趋势反转。  "
   ]
  },
  {
   "cell_type": "code",
   "execution_count": 42,
   "id": "616bbcd5",
   "metadata": {},
   "outputs": [],
   "source": [
    "integer = CDLHOMINGPIGEON(inputs['open'], inputs['high'], inputs['low'], inputs['close'])"
   ]
  },
  {
   "cell_type": "markdown",
   "id": "c004183a",
   "metadata": {},
   "source": [
    "### (32)CDLIDENTICAL3CROWS - Identical Three Crows 三胞胎乌鸦  \n",
    "\n",
    "> 函数名：CDLIDENTICAL3CROWS  \n",
    "> 名称：Identical Three Crows 三胞胎乌鸦  \n",
    "> 简介：三日K线模式，上涨趋势中，三日都为阴线，长度大致相等，每日开盘价等于前一日收盘价，收盘价接近当日最低价，预示价格下跌。  "
   ]
  },
  {
   "cell_type": "code",
   "execution_count": 43,
   "id": "4b2ef515",
   "metadata": {},
   "outputs": [],
   "source": [
    "integer = CDLIDENTICAL3CROWS(inputs['open'], inputs['high'], inputs['low'], inputs['close'])"
   ]
  },
  {
   "cell_type": "markdown",
   "id": "223267e9",
   "metadata": {},
   "source": [
    "### (33)CDLINNECK - In-Neck Pattern 颈内线 \n",
    "\n",
    ">函数名：CDLINNECK  \n",
    ">名称：In-Neck Pattern 颈内线  \n",
    ">简介：二日K线模式，下跌趋势中，第一日长阴线，第二日开盘价较低，收盘价略高于第一日收盘价，阳线，实体较短，预示着下跌继续。  "
   ]
  },
  {
   "cell_type": "code",
   "execution_count": 44,
   "id": "75f37cd5",
   "metadata": {},
   "outputs": [],
   "source": [
    "integer = CDLINNECK(inputs['open'], inputs['high'], inputs['low'], inputs['close'])"
   ]
  },
  {
   "cell_type": "markdown",
   "id": "81418df0",
   "metadata": {},
   "source": [
    "### (34)CDLINVERTEDHAMMER - Inverted Hammer 倒锤头 \n",
    "\n",
    "> 函数名：CDLINVERTEDHAMMER  \n",
    "> 名称：Inverted Hammer 倒锤头  \n",
    "> 简介：一日K线模式，上影线较长，长度为实体2倍以上，无下影线，在下跌趋势底部，预示着趋势反转。  "
   ]
  },
  {
   "cell_type": "code",
   "execution_count": 45,
   "id": "407ca8df",
   "metadata": {},
   "outputs": [],
   "source": [
    "integer = CDLINVERTEDHAMMER(inputs['open'], inputs['high'], inputs['low'], inputs['close'])"
   ]
  },
  {
   "cell_type": "markdown",
   "id": "4a78e496",
   "metadata": {},
   "source": [
    "### (35)CDLKICKING - Kicking 反冲形态 \n",
    "\n",
    "> 函数名：CDLKICKING  \n",
    "> 名称：Kicking 反冲形态  \n",
    "> 简介：二日K线模式，与分离线类似，两日K线为秃线，颜色相反，存在跳空缺口。  "
   ]
  },
  {
   "cell_type": "code",
   "execution_count": 46,
   "id": "748cb4ec",
   "metadata": {},
   "outputs": [],
   "source": [
    "integer = CDLKICKING(inputs['open'], inputs['high'], inputs['low'], inputs['close'])"
   ]
  },
  {
   "cell_type": "markdown",
   "id": "edeb3a2f",
   "metadata": {},
   "source": [
    "### (36)CDLKICKINGBYLENGTH - Kicking - bull/bear determined by the longer marubozu 较长缺影线决定的反冲形态  \n",
    "\n",
    "> 函数名：CDLKICKINGBYLENGTH  \n",
    "> 名称：Kicking - bull/bear determined by the longer marubozu 由较长缺影线决定的反冲形态  \n",
    "> 简介：二日K线模式，与反冲形态类似，较长缺影线决定价格的涨跌。  "
   ]
  },
  {
   "cell_type": "code",
   "execution_count": 47,
   "id": "05923d13",
   "metadata": {},
   "outputs": [],
   "source": [
    "integer = CDLKICKINGBYLENGTH(inputs['open'], inputs['high'], inputs['low'], inputs['close'])"
   ]
  },
  {
   "cell_type": "markdown",
   "id": "70ab37b7",
   "metadata": {},
   "source": [
    "### (37)CDLLADDERBOTTOM - Ladder Bottom 梯底 \n",
    " \n",
    "> 函数名：CDLLADDERBOTTOM  \n",
    "> 名称：Ladder Bottom 梯底  \n",
    "> 简介：五日K线模式，下跌趋势中，前三日阴线，\n",
    "> 开盘价与收盘价皆低于前一日开盘、收盘价，第四日倒锤头，第五日开盘价高于前一日开盘价，阳线，收盘价高于前几日价格振幅，预示着底部反转。  "
   ]
  },
  {
   "cell_type": "code",
   "execution_count": 48,
   "id": "697ccc1f",
   "metadata": {},
   "outputs": [],
   "source": [
    "integer = CDLLADDERBOTTOM(inputs['open'], inputs['high'], inputs['low'], inputs['close'])"
   ]
  },
  {
   "cell_type": "markdown",
   "id": "2ec650a7",
   "metadata": {},
   "source": [
    "### (38)CDLLONGLEGGEDDOJI - Long Legged Doji 长脚十字 \n",
    "\n",
    "> 函数名：CDLLONGLEGGEDDOJI  \n",
    "> 名称：Long Legged Doji 长脚十字  \n",
    "> 简介：一日K线模式，开盘价与收盘价相同居当日价格中部，上下影线长，表达市场不确定性。"
   ]
  },
  {
   "cell_type": "code",
   "execution_count": 49,
   "id": "594c2911",
   "metadata": {},
   "outputs": [],
   "source": [
    "integer = CDLLONGLEGGEDDOJI(inputs['open'], inputs['high'], inputs['low'], inputs['close'])"
   ]
  },
  {
   "cell_type": "markdown",
   "id": "8dedfcb8",
   "metadata": {},
   "source": [
    "### (39)CDLLONGLINE - Long Line Candle 长蜡烛 \n",
    "\n",
    "> 函数名：CDLLONGLINE  \n",
    "> 名称：Long Line Candle 长蜡烛  \n",
    "> 简介：一日K线模式，K线实体长，无上下影线。  "
   ]
  },
  {
   "cell_type": "code",
   "execution_count": 50,
   "id": "00d01448",
   "metadata": {},
   "outputs": [],
   "source": [
    "integer = CDLLONGLINE(inputs['open'], inputs['high'], inputs['low'], inputs['close'])"
   ]
  },
  {
   "cell_type": "markdown",
   "id": "416bbbe7",
   "metadata": {},
   "source": [
    "### (40)CDLMARUBOZU - Marubozu 光头光脚/缺影线  \n",
    "\n",
    ">函数名：CDLMARUBOZU   \n",
    "名称：Marubozu 光头光脚/缺影线  \n",
    "简介：一日K线模式，上下两头都没有影线的实体，阴线预示着熊市持续或者牛市反转，阳线相反。  "
   ]
  },
  {
   "cell_type": "code",
   "execution_count": 51,
   "id": "8095218e",
   "metadata": {},
   "outputs": [],
   "source": [
    "integer = CDLMARUBOZU(inputs['open'], inputs['high'], inputs['low'], inputs['close'])"
   ]
  },
  {
   "cell_type": "markdown",
   "id": "236a4332",
   "metadata": {},
   "source": [
    "### (41)CDLMATCHINGLOW - Matching Low 相同低价 \n",
    "\n",
    "> 函数名：CDLMATCHINGLOW  \n",
    "> 名称：Matching Low 相同低价  \n",
    "> 简介：二日K线模式，下跌趋势中，第一日长阴线，第二日阴线，收盘价与前一日相同，预示底部确认，该价格为支撑位。  "
   ]
  },
  {
   "cell_type": "code",
   "execution_count": 52,
   "id": "de8cde90",
   "metadata": {},
   "outputs": [],
   "source": [
    "integer = CDLMATCHINGLOW(inputs['open'], inputs['high'], inputs['low'], inputs['close'])"
   ]
  },
  {
   "cell_type": "markdown",
   "id": "1231dadf",
   "metadata": {},
   "source": [
    "### (42)CDLMATHOLD - Mat Hold 铺垫\n",
    "\n",
    "> 函数名：CDLMATHOLD  \n",
    "> 名称：Mat Hold 铺垫  \n",
    "> 简介：五日K线模式，上涨趋势中，第一日阳线，第二日跳空高开影线，第三、四日短实体影线，第五日阳线，收盘价高于前四日，预示趋势持续。  "
   ]
  },
  {
   "cell_type": "code",
   "execution_count": 53,
   "id": "02c51c95",
   "metadata": {},
   "outputs": [],
   "source": [
    "integer = CDLMATHOLD(inputs['open'], inputs['high'], inputs['low'], inputs['close'], penetration=0.)"
   ]
  },
  {
   "cell_type": "markdown",
   "id": "255721ca",
   "metadata": {},
   "source": [
    "### (43)CDLMORNINGDOJISTAR - Morning Doji Star 十字晨星  \n",
    "\n",
    ">函数名：CDLMORNINGDOJISTAR  \n",
    ">名称：Morning Doji Star 十字晨星  \n",
    ">简介：三日K线模式，基本模式为晨星，第二日K线为十字星，预示底部反转。  "
   ]
  },
  {
   "cell_type": "code",
   "execution_count": 54,
   "id": "c6bd400e",
   "metadata": {},
   "outputs": [],
   "source": [
    "integer = CDLMORNINGDOJISTAR(inputs['open'], inputs['high'], inputs['low'], inputs['close'], penetration=0.)"
   ]
  },
  {
   "cell_type": "markdown",
   "id": "e2c77b2f",
   "metadata": {},
   "source": [
    "### (44)CDLMORNINGSTAR - Morning Star 晨星\n",
    "\n",
    "> 函数名：CDLMORNINGSTAR  \n",
    "> 名称：Morning Star 晨星  \n",
    "> 简介：三日K线模式，下跌趋势，第一日阴线，第二日价格振幅较小，第三天阳线，预示底部反转。  "
   ]
  },
  {
   "cell_type": "code",
   "execution_count": 55,
   "id": "0bf7cace",
   "metadata": {},
   "outputs": [],
   "source": [
    "integer = CDLMORNINGSTAR(inputs['open'], inputs['high'], inputs['low'], inputs['close'], penetration=0.)"
   ]
  },
  {
   "cell_type": "markdown",
   "id": "177460fa",
   "metadata": {},
   "source": [
    "### (45)CDLONNECK - On-Neck Pattern 颈上线 \n",
    "\n",
    "> 函数名：CDLONNECK  \n",
    "> 名称：On-Neck Pattern 颈上线  \n",
    "> 简介：二日K线模式，下跌趋势中，第一日长阴线，第二日开盘价较低，收盘价与前一日最低价相同，阳线，实体较短，预示着延续下跌趋势。  "
   ]
  },
  {
   "cell_type": "code",
   "execution_count": 56,
   "id": "0460bf80",
   "metadata": {},
   "outputs": [],
   "source": [
    "integer = CDLONNECK(inputs['open'], inputs['high'], inputs['low'], inputs['close'])"
   ]
  },
  {
   "cell_type": "markdown",
   "id": "0e49159d",
   "metadata": {},
   "source": [
    "### (46)CDLPIERCING - Piercing Pattern 刺透形态 \n",
    "\n",
    "> 函数名：CDLPIERCING  \n",
    "> 名称：Piercing Pattern 刺透形态  \n",
    "> 简介：两日K线模式，下跌趋势中，第一日阴线，第二日收盘价低于前一日最低价，收盘价处在第一日实体上部，预示着底部反转。"
   ]
  },
  {
   "cell_type": "code",
   "execution_count": 57,
   "id": "6140044d",
   "metadata": {},
   "outputs": [],
   "source": [
    "integer = CDLPIERCING(inputs['open'], inputs['high'], inputs['low'], inputs['close'])"
   ]
  },
  {
   "cell_type": "markdown",
   "id": "04893c09",
   "metadata": {},
   "source": [
    "### (47)CDLRICKSHAWMAN - Rickshaw Man 黄包车夫\n",
    "\n",
    "> 函数名：CDLRICKSHAWMAN  \n",
    "> 名称：Rickshaw Man 黄包车夫  \n",
    "> 简介：一日K线模式，与长腿十字线类似，若实体正好处于价格振幅中点，称为黄包车夫。  "
   ]
  },
  {
   "cell_type": "code",
   "execution_count": 58,
   "id": "addce526",
   "metadata": {},
   "outputs": [],
   "source": [
    "integer = CDLRICKSHAWMAN(inputs['open'], inputs['high'], inputs['low'], inputs['close'])"
   ]
  },
  {
   "cell_type": "markdown",
   "id": "8bda1c01",
   "metadata": {},
   "source": [
    "### (48)CDLRISEFALL3METHODS - Rising/Falling Three Methods 上升/下降三法 \n",
    "\n",
    "> 函数名：CDLRISEFALL3METHODS  \n",
    "> 名称：Rising/Falling Three Methods 上升/下降三法  \n",
    "> 简介： 五日K线模式，以上升三法为例，上涨趋势中，第一日长阳线，中间三日价格在第一日范围内小幅震荡，第五日长阳线，收盘价高于第一日收盘价，预示股价上升。  "
   ]
  },
  {
   "cell_type": "code",
   "execution_count": 59,
   "id": "2d36c021",
   "metadata": {},
   "outputs": [],
   "source": [
    "integer = CDLRISEFALL3METHODS(inputs['open'], inputs['high'], inputs['low'], inputs['close'])"
   ]
  },
  {
   "cell_type": "markdown",
   "id": "3e7fe79e",
   "metadata": {},
   "source": [
    "### (49)CDLSEPARATINGLINES - Separating Lines 分离线\n",
    "\n",
    "> 函数名：CDLSEPARATINGLINES  \n",
    "> 名称：Separating Lines 分离线  \n",
    "> 简介：二日K线模式，上涨趋势中，第一日阴线，第二日阳线，第二日开盘价与第一日相同且为最低价，预示着趋势继续。  "
   ]
  },
  {
   "cell_type": "code",
   "execution_count": 60,
   "id": "e7bf79b4",
   "metadata": {},
   "outputs": [],
   "source": [
    "integer = CDLSEPARATINGLINES(inputs['open'], inputs['high'], inputs['low'], inputs['close'])"
   ]
  },
  {
   "cell_type": "markdown",
   "id": "f9c8a6dd",
   "metadata": {},
   "source": [
    "### (50)CDLSHOOTINGSTAR - Shooting Star 射击之星\n",
    "\n",
    "> 函数名：CDLSHOOTINGSTAR  \n",
    "> 名称：Shooting Star 射击之星  \n",
    "> 简介：一日K线模式，上影线至少为实体长度两倍，没有下影线，预示着股价下跌  "
   ]
  },
  {
   "cell_type": "code",
   "execution_count": 61,
   "id": "262df3a2",
   "metadata": {},
   "outputs": [],
   "source": [
    "integer = CDLSHOOTINGSTAR(inputs['open'], inputs['high'], inputs['low'], inputs['close'])"
   ]
  },
  {
   "cell_type": "markdown",
   "id": "d630b6c5",
   "metadata": {},
   "source": [
    "### (51)CDLSHORTLINE - Short Line Candle 短蜡烛 \n",
    "\n",
    "> 函数名：CDLSHORTLINE  \n",
    "> 名称：Short Line Candle 短蜡烛  \n",
    "> 简介：一日K线模式，实体短，无上下影线  "
   ]
  },
  {
   "cell_type": "code",
   "execution_count": 62,
   "id": "68d40681",
   "metadata": {},
   "outputs": [],
   "source": [
    "integer = CDLSHORTLINE(inputs['open'], inputs['high'], inputs['low'], inputs['close'])"
   ]
  },
  {
   "cell_type": "markdown",
   "id": "f0b0d945",
   "metadata": {},
   "source": [
    "### (52)CDLSPINNINGTOP - Spinning Top 纺锤\n",
    "\n",
    "> 函数名：CDLSPINNINGTOP  \n",
    "> 名称：Spinning Top 纺锤  \n",
    "> 简介：一日K线，实体小。  "
   ]
  },
  {
   "cell_type": "code",
   "execution_count": 63,
   "id": "ac65f055",
   "metadata": {},
   "outputs": [],
   "source": [
    "integer = CDLSPINNINGTOP(inputs['open'], inputs['high'], inputs['low'], inputs['close'])"
   ]
  },
  {
   "cell_type": "markdown",
   "id": "01823455",
   "metadata": {},
   "source": [
    "### (53)CDLSTALLEDPATTERN - Stalled Pattern 停顿形态  \n",
    "\n",
    "> 函数名：CDLSTALLEDPATTERN  \n",
    "> 名称：Stalled Pattern 停顿形态  \n",
    "> 简介：三日K线模式，上涨趋势中，第二日长阳线，第三日开盘于前一日收盘价附近，短阳线，预示着上涨结束  "
   ]
  },
  {
   "cell_type": "code",
   "execution_count": 64,
   "id": "42a6a8c7",
   "metadata": {},
   "outputs": [],
   "source": [
    "integer = CDLSTALLEDPATTERN(inputs['open'], inputs['high'], inputs['low'], inputs['close'])"
   ]
  },
  {
   "cell_type": "markdown",
   "id": "2a8dfa8b",
   "metadata": {},
   "source": [
    "### (54)CDLSTICKSANDWICH - Stick Sandwich 条形三明治 \n",
    "\n",
    "> 函数名：CDLSTICKSANDWICH  \n",
    "> 名称：Stick Sandwich 条形三明治  \n",
    "> 简介：三日K线模式，第一日长阴线，第二日阳线，开盘价高于前一日收盘价，第三日开盘价高于前两日最高价，收盘价于第一日收盘价相同。  "
   ]
  },
  {
   "cell_type": "code",
   "execution_count": 65,
   "id": "675ffa65",
   "metadata": {},
   "outputs": [],
   "source": [
    "integer = CDLSTICKSANDWICH(inputs['open'], inputs['high'], inputs['low'], inputs['close'])"
   ]
  },
  {
   "cell_type": "markdown",
   "id": "521046da",
   "metadata": {},
   "source": [
    "### (55)CDLTAKURI - Takuri (Dragonfly Doji with very long lower shadow) 探水竿\n",
    "\n",
    "> 函数名：CDLTAKURI  \n",
    "> 名称：Takuri (Dragonfly Doji with very long lower shadow) 探水竿  \n",
    "> 简介：一日K线模式，大致与蜻蜓十字相同，下影线长度长。  "
   ]
  },
  {
   "cell_type": "code",
   "execution_count": 66,
   "id": "c5866102",
   "metadata": {},
   "outputs": [],
   "source": [
    "integer = CDLTAKURI(inputs['open'], inputs['high'], inputs['low'], inputs['close'])"
   ]
  },
  {
   "cell_type": "markdown",
   "id": "aa9df4bd",
   "metadata": {},
   "source": [
    "### (56)CDLTASUKIGAP - Tasuki Gap 跳空并列阴阳线 \n",
    "\n",
    "> 函数名：CDLTASUKIGAP  \n",
    "> 名称：Tasuki Gap 跳空并列阴阳线  \n",
    "> 简介：三日K线模式，分上涨和下跌，以上升为例，前两日阳线，第二日跳空，第三日阴线，收盘价于缺口中，上升趋势持续。  "
   ]
  },
  {
   "cell_type": "code",
   "execution_count": 67,
   "id": "666fa089",
   "metadata": {},
   "outputs": [],
   "source": [
    "integer = CDLTASUKIGAP(inputs['open'], inputs['high'], inputs['low'], inputs['close'])"
   ]
  },
  {
   "cell_type": "markdown",
   "id": "2d3fbfaf",
   "metadata": {},
   "source": [
    "### (57)CDLTHRUSTING - Thrusting Pattern 插入\n",
    " \n",
    "> 函数名：CDLTHRUSTING  \n",
    "> 名称：Thrusting Pattern 插入  \n",
    "> 简介：二日K线模式，与颈上线类似，下跌趋势中，第一日长阴线，第二日开盘价跳空，收盘价略低于前一日实体中部，与颈上线相比实体较长，预示着趋势持续。  "
   ]
  },
  {
   "cell_type": "code",
   "execution_count": 68,
   "id": "6dbd5162",
   "metadata": {},
   "outputs": [],
   "source": [
    "integer = CDLTHRUSTING(inputs['open'], inputs['high'], inputs['low'], inputs['close'])"
   ]
  },
  {
   "cell_type": "markdown",
   "id": "13ff4a09",
   "metadata": {},
   "source": [
    "### (58)CDLTRISTAR - Tristar Pattern 三星\n",
    "\n",
    "> 函数名：CDLTRISTAR  \n",
    "> 名称：Tristar Pattern 三星  \n",
    "> 简介：三日K线模式，由三个十字组成，第二日十字必须高于或者低于第一日和第三日，预示着反转。  "
   ]
  },
  {
   "cell_type": "code",
   "execution_count": 69,
   "id": "063368b3",
   "metadata": {},
   "outputs": [],
   "source": [
    "integer = CDLTRISTAR(inputs['open'], inputs['high'], inputs['low'], inputs['close'])"
   ]
  },
  {
   "cell_type": "markdown",
   "id": "318c4e60",
   "metadata": {},
   "source": [
    "### (59)CDLUNIQUE3RIVER - Unique 3 River 奇特三河床\n",
    "\n",
    "> 函数名：CDLUNIQUE3RIVER  \n",
    "> 名称：Unique 3 River 奇特三河床  \n",
    "> 简介：三日K线模式，下跌趋势中，第一日长阴线，第二日为锤头，最低价创新低，第三日开盘价低于第二日收盘价，收阳线，收盘价不高于第二日收盘价，预示着反转，第二日下影线越长可能性越大。 "
   ]
  },
  {
   "cell_type": "code",
   "execution_count": 70,
   "id": "d5b88443",
   "metadata": {},
   "outputs": [],
   "source": [
    "integer = CDLUNIQUE3RIVER(inputs['open'], inputs['high'], inputs['low'], inputs['close'])"
   ]
  },
  {
   "cell_type": "markdown",
   "id": "f208c158",
   "metadata": {},
   "source": [
    "### (60)CDLUPSIDEGAP2CROWS - Upside Gap Two Crows 向上跳空的两只乌鸦  \n",
    "\n",
    "> 函数名：CDLUPSIDEGAP2CROWS  \n",
    "> 名称：Upside Gap Two Crows 向上跳空的两只乌鸦  \n",
    "> 简介：三日K线模式，第一日阳线，第二日跳空以高于第一日最高价开盘，收阴线，第三日开盘价高于第二日，收阴线，与第一日比仍有缺口。  "
   ]
  },
  {
   "cell_type": "code",
   "execution_count": 71,
   "id": "7a7748b6",
   "metadata": {},
   "outputs": [],
   "source": [
    "integer = CDLUPSIDEGAP2CROWS(inputs['open'], inputs['high'], inputs['low'], inputs['close'])"
   ]
  },
  {
   "cell_type": "markdown",
   "id": "a8021781",
   "metadata": {},
   "source": [
    "### (61)CDLXSIDEGAP3METHODS - Upside/Downside Gap Three Methods 上升/下降跳空三法  \n",
    "\n",
    "> 函数名：CDLXSIDEGAP3METHODS  \n",
    "> 名称：Upside/Downside Gap Three Methods 上升/下降跳空三法  \n",
    "> 简介：五日K线模式，以上升跳空三法为例，上涨趋势中，第一日长阳线，第二日短阳线，第三日跳空阳线，第四日阴线，开盘价与收盘价于前两日实体内，第五日长阳线，收盘价高于第一日收盘价，预示股价上升。  "
   ]
  },
  {
   "cell_type": "code",
   "execution_count": 72,
   "id": "05621d03",
   "metadata": {},
   "outputs": [],
   "source": [
    "integer = CDLXSIDEGAP3METHODS(inputs['open'], inputs['high'], inputs['low'], inputs['close'])"
   ]
  },
  {
   "cell_type": "markdown",
   "id": "36c5a0f6",
   "metadata": {},
   "source": [
    "## 8.Statistic Functions 统计功能\n",
    "**统计功能指标汇总表**\n",
    "\n",
    "| 指标       | 函数名       | 实例        |\n",
    "| :------------- | :-------------------- | :------------------------------- |\n",
    "| BETA - Beta β系数也称为贝塔系数| BETA  |real = BETA(high, low, timeperiod=5)|\n",
    "| CORREL - Pearson's Correlation Coefficient (r) 皮尔逊相关系数 | CORREL| real = CORREL(high, low, timeperiod=30)|\n",
    "| LINEARREG - Linear Regression 线性回归 | LINEARREG  |real = LINEARREG(close, timeperiod=14)|\n",
    "| LINEARREG_ANGLE - Linear Regression Angle  线性回归的角度 | LINEARREG_ANGLE |real = LINEARREG_ANGLE(close, timeperiod=14)|\n",
    "| LINEARREG_INTERCEPT - Linear Regression Intercept 线性回归截距 | LINEARREG_INTERCEPT | real = LINEARREG_INTERCEPT(close, timeperiod=14)|\n",
    "| LINEARREG_SLOPE - Linear Regression Slope 线性回归斜率指标| LINEARREG_SLOPE  |real = LINEARREG_SLOPE(close, timeperiod=14)|\n",
    "| STDDEV - Standard Deviation 标准偏差 | STDDEV| real = STDDEV(close, timeperiod=5, nbdev=1)|\n",
    "| TSF - Time Series Forecast  时间序列预测| TSF  |real = TSF(close, timeperiod=14)|\n",
    "| VAR - VAR 方差 | VAR | real = VAR(close, timeperiod=5, nbdev=1)|"
   ]
  },
  {
   "cell_type": "markdown",
   "id": "4971e5ea",
   "metadata": {},
   "source": [
    "### (1)BETA - Beta β系数也称为贝塔系数 \n",
    "\n",
    "> 函数名：BETA  \n",
    "> 名称： Beta β系数也称为贝塔系数   \n",
    "> 简介：一种风险指数，用来衡量个别股票或股票基金相对于整个股市的价格波动情况。\n",
    "贝塔系数衡量股票收益相对于业绩评价基准收益的总体波动性，是一个相对指标。β越高，意味着股票相对于业绩评价基准的波动性越大。β大于1，则股票的波动性大于业绩评价基准的波动性。反之亦然。\n",
    "用途：   \n",
    "1）计算资本成本，做出投资决策（只有回报率高于资本成本的项目才应投资）；   \n",
    "2）计算资本成本，制定业绩考核及激励标准；   \n",
    "3）计算资本成本，进行资产估值（Beta是现金流贴现模型的基础）；   \n",
    "4）确定单个资产或组合的系统风险，用于资产组合的投资管理，特别是股指期货或其他金融衍生品的避险（或投机）"
   ]
  },
  {
   "cell_type": "code",
   "execution_count": null,
   "id": "d1f2cc26",
   "metadata": {},
   "outputs": [],
   "source": [
    "real = BETA(high, low, timeperiod=5)"
   ]
  },
  {
   "cell_type": "markdown",
   "id": "acb54ae4",
   "metadata": {},
   "source": [
    "### (2)CORREL - Pearson's Correlation Coefficient (r) 皮尔逊相关系数\n",
    " \n",
    "> 函数名：CORREL  \n",
    "> 名称： Pearson's Correlation Coefficient (r) 皮尔逊相关系数   \n",
    "> 简介：用于度量两个变量X和Y之间的相关（线性相关），其值介于-1与1之间皮尔逊相关系数是一种度量两个变量间相关程度的方法。它是一个介于 1 和 -1 之间的值，其中，1 表示变量完全正相关， 0 表示无关，-1 表示完全负相关。"
   ]
  },
  {
   "cell_type": "code",
   "execution_count": null,
   "id": "5d246913",
   "metadata": {},
   "outputs": [],
   "source": [
    "real = CORREL(high, low, timeperiod=30)"
   ]
  },
  {
   "cell_type": "markdown",
   "id": "980632ad",
   "metadata": {},
   "source": [
    "### (3)LINEARREG - Linear Regression 线性回归\n",
    "\n",
    "> 函数名：LINEARREG  \n",
    "> 名称：Linear Regression 线性回归   \n",
    "> 简介：来确定两种或两种以上变量间相互依赖的定量关系的一种统计分析方法,其表达形式为y = w'x+e，e为误差服从均值为0的正态分布。"
   ]
  },
  {
   "cell_type": "code",
   "execution_count": null,
   "id": "d86f2cf7",
   "metadata": {},
   "outputs": [],
   "source": [
    "real = LINEARREG(close, timeperiod=14)"
   ]
  },
  {
   "cell_type": "markdown",
   "id": "b6dfb019",
   "metadata": {},
   "source": [
    "### (4)LINEARREG_ANGLE - Linear Regression Angle 线性回归的角度\n",
    "\n",
    "> 函数名：LINEARREG_ANGLE  \n",
    "> 名称：Linear Regression Angle 线性回归的角度   \n",
    "> 简介：来确定价格的角度变化. "
   ]
  },
  {
   "cell_type": "code",
   "execution_count": null,
   "id": "fd1cb170",
   "metadata": {},
   "outputs": [],
   "source": [
    "real = LINEARREG_ANGLE(close, timeperiod=14)"
   ]
  },
  {
   "cell_type": "markdown",
   "id": "d9d55e0c",
   "metadata": {},
   "source": [
    "### (5)LINEARREG_INTERCEPT - Linear Regression Intercept 线性回归截距\n",
    "\n",
    "> 函数名：LINEARREG_INTERCEPT  \n",
    "> 名称： Linear Regression Intercept 线性回归截距  "
   ]
  },
  {
   "cell_type": "code",
   "execution_count": null,
   "id": "754023d5",
   "metadata": {},
   "outputs": [],
   "source": [
    "real = LINEARREG_INTERCEPT(close, timeperiod=14)"
   ]
  },
  {
   "cell_type": "markdown",
   "id": "982338ef",
   "metadata": {},
   "source": [
    "### (6)LINEARREG_SLOPE - Linear Regression Slope 线性回归斜率指标\n",
    "\n",
    "> 函数名：LINEARREG_SLOPE  \n",
    "> 名称： Linear Regression Slope 线性回归斜率指标"
   ]
  },
  {
   "cell_type": "code",
   "execution_count": null,
   "id": "da6904b5",
   "metadata": {},
   "outputs": [],
   "source": [
    "real = LINEARREG_SLOPE(close, timeperiod=14)"
   ]
  },
  {
   "cell_type": "markdown",
   "id": "0d208c96",
   "metadata": {},
   "source": [
    "### (7)STDDEV - Standard Deviation 标准偏差\n",
    "\n",
    "> 函数名：STDDEV  \n",
    "> 名称：Standard Deviation 标准偏差   \n",
    "> 简介：种量度数据分布的分散程度之标准，用以衡量数据值偏离算术平均值的程度。标准偏差越小，这些值偏离平均值就越少，反之亦然。标准偏差的大小可通过标准偏差与平均值的倍率关系来衡量。"
   ]
  },
  {
   "cell_type": "code",
   "execution_count": null,
   "id": "d56d1d72",
   "metadata": {},
   "outputs": [],
   "source": [
    "real = STDDEV(close, timeperiod=5, nbdev=1)"
   ]
  },
  {
   "cell_type": "markdown",
   "id": "a0db85e2",
   "metadata": {},
   "source": [
    "### (8)TSF - Time Series Forecast 时间序列预测\n",
    "\n",
    "> 函数名：TSF  \n",
    "> 名称：Time Series Forecast  时间序列预测   \n",
    "> 简介：一种历史资料延伸预测，也称历史引伸预测法。是以时间数列所能反映的社会经济现象的发展过程和规律性，进行引伸外推，预测其发展趋势的方法"
   ]
  },
  {
   "cell_type": "code",
   "execution_count": null,
   "id": "b98fa84a",
   "metadata": {},
   "outputs": [],
   "source": [
    "real = TSF(close, timeperiod=14)"
   ]
  },
  {
   "cell_type": "markdown",
   "id": "c377004a",
   "metadata": {},
   "source": [
    "### (9)VAR - VAR 方差\n",
    "\n",
    "> 函数名：  VAR\n",
    "> 名称：VAR 方差   \n",
    "> 简介：方差用来计算每一个变量（观察值）与总体均数之间的差异。为避免出现离均差总和为零，离均差平方和受样本含量的影响，统计学采用平均离均差平方和来描述变量的变异程度"
   ]
  },
  {
   "cell_type": "code",
   "execution_count": null,
   "id": "1d6db50a",
   "metadata": {},
   "outputs": [],
   "source": [
    "real = VAR(close, timeperiod=5, nbdev=1)"
   ]
  },
  {
   "cell_type": "markdown",
   "id": "5edd94b7",
   "metadata": {},
   "source": [
    "## 9.Math Transform 数学变换\n",
    "**数学变换指标汇总表**\n",
    "\n",
    "| 指标       | 函数名       | 实例        |\n",
    "| :------------- | :-------------------- | :------------------------------- |\n",
    "| ACOS - Vector Trigonometric ACos 反余弦函数| ACOS  |real = ACOS(close)|\n",
    "|ASIN - Vector Trigonometric ASin 反正弦函数 | ASIN| real = ASIN(close)|\n",
    "|ATAN - Vector Trigonometric ATan 反正切值| ATAN  |real = ATAN(close)|\n",
    "|CEIL - Vector Ceil 向上取整数 | CEIL |real = CEIL(close)|\n",
    "|COS - Vector Trigonometric Cos 余弦函数| COS | real = COS(close)|\n",
    "| COSH - Vector Trigonometric Cosh 双曲正弦函数| COSH  |real = COSH(close)|\n",
    "| EXP - Vector Arithmetic Exp 指数曲线| EXP| real = EXP(close)|\n",
    "| FLOOR - Vector Floor 向下取整数| FLOOR  |real = FLOOR(close)|\n",
    "| LN - Vector Log Natural 自然对数 | LN | real = LN(close)|\n",
    "| LOG10 - Vector Log10 对数函数| LOG10|real = LOG10(close)|\n",
    "| SIN - Vector Trigonometric Sin 正弦函数| SIN  |real = SIN(close)|\n",
    "| SINH - Vector Trigonometric Sinh 双曲正弦函数| SINH | real = SINH(close)|\n",
    "| SQRT - Vector Square Root 非负实数的平方根 | SQRT| real = SQRT(close)|\n",
    "| TAN - Vector Trigonometric Tan 正切函数| TAN  |real = TAN(close)|\n",
    "| TANH - Vector Trigonometric Tanh 双曲正切函数 | TANH | real = TANH(close)|\n"
   ]
  },
  {
   "cell_type": "markdown",
   "id": "833e376c",
   "metadata": {},
   "source": [
    "### (1)ACOS - Vector Trigonometric ACos 反余弦函数\n",
    "\n",
    "> 函数名：ACOS   \n",
    "> 名称：acos函数是反余弦函数，三角函数   "
   ]
  },
  {
   "cell_type": "code",
   "execution_count": null,
   "id": "d40f35b1",
   "metadata": {},
   "outputs": [],
   "source": [
    "real = ACOS(close)"
   ]
  },
  {
   "cell_type": "markdown",
   "id": "7941a231",
   "metadata": {},
   "source": [
    "### (2)ASIN - Vector Trigonometric ASin 反正弦函数\n",
    "\n",
    "> 函数名：ASIN   \n",
    "> 名称：反正弦函数，三角函数"
   ]
  },
  {
   "cell_type": "code",
   "execution_count": null,
   "id": "605aee78",
   "metadata": {},
   "outputs": [],
   "source": [
    "real = ASIN(close)"
   ]
  },
  {
   "cell_type": "markdown",
   "id": "90e3f29f",
   "metadata": {},
   "source": [
    "### (3)ATAN - Vector Trigonometric ATan 反正切值\n",
    "\n",
    "> 函数名：ASIN   \n",
    "> 名称：数字的反正切值，三角函数"
   ]
  },
  {
   "cell_type": "code",
   "execution_count": null,
   "id": "3fc91ff8",
   "metadata": {},
   "outputs": [],
   "source": [
    "real = ATAN(close)"
   ]
  },
  {
   "cell_type": "markdown",
   "id": "7cc67e3b",
   "metadata": {},
   "source": [
    "### (4)CEIL - Vector Ceil 向上取整数\n",
    "\n",
    "> 函数名：CEIL   \n",
    "> 简介：向上取整数"
   ]
  },
  {
   "cell_type": "code",
   "execution_count": null,
   "id": "79d83cc4",
   "metadata": {},
   "outputs": [],
   "source": [
    "real = CEIL(close)"
   ]
  },
  {
   "cell_type": "markdown",
   "id": "b83e905f",
   "metadata": {},
   "source": [
    "### (5)COS - Vector Trigonometric Cos余弦函数\n",
    "\n",
    "> 函数名：COS   \n",
    "> 名称：余弦函数，三角函数"
   ]
  },
  {
   "cell_type": "code",
   "execution_count": null,
   "id": "5ded3949",
   "metadata": {},
   "outputs": [],
   "source": [
    "real = COS(close)"
   ]
  },
  {
   "cell_type": "markdown",
   "id": "15ad4114",
   "metadata": {},
   "source": [
    "### (6)COSH - Vector Trigonometric Cosh 双曲正弦函数\n",
    "\n",
    "> 函数名：COSH   \n",
    "> 名称：双曲正弦函数，三角函数"
   ]
  },
  {
   "cell_type": "code",
   "execution_count": null,
   "id": "a751dbb6",
   "metadata": {},
   "outputs": [],
   "source": [
    "real = COSH(close)"
   ]
  },
  {
   "cell_type": "markdown",
   "id": "fdc3898f",
   "metadata": {},
   "source": [
    "### (7)EXP - Vector Arithmetic Exp 指数曲线\n",
    "\n",
    "> 函数名：EXP   \n",
    "> 名称：指数曲线，三角函数"
   ]
  },
  {
   "cell_type": "code",
   "execution_count": null,
   "id": "dc26a16e",
   "metadata": {},
   "outputs": [],
   "source": [
    "real = EXP(close)"
   ]
  },
  {
   "cell_type": "markdown",
   "id": "331313e2",
   "metadata": {},
   "source": [
    "### (8)FLOOR - Vector Floor 向下取整数\n",
    "\n",
    "> 函数名：FLOOR    \n",
    "> 名称：向下取整数"
   ]
  },
  {
   "cell_type": "code",
   "execution_count": null,
   "id": "5bbee3b9",
   "metadata": {},
   "outputs": [],
   "source": [
    "real = FLOOR(close)"
   ]
  },
  {
   "cell_type": "markdown",
   "id": "1251fe57",
   "metadata": {},
   "source": [
    "### (9)LN - Vector Log Natural 自然对数\n",
    "\n",
    "> 函数名：LN    \n",
    "> 名称：自然对数"
   ]
  },
  {
   "cell_type": "code",
   "execution_count": null,
   "id": "5469a84c",
   "metadata": {},
   "outputs": [],
   "source": [
    "real = LN(close)"
   ]
  },
  {
   "cell_type": "markdown",
   "id": "68a6f6de",
   "metadata": {},
   "source": [
    "### (10)LOG10 - Vector Log10 对数函数\n",
    "\n",
    "> 函数名：LOG10    \n",
    "> 名称：对数函数log"
   ]
  },
  {
   "cell_type": "code",
   "execution_count": null,
   "id": "92cdeed7",
   "metadata": {},
   "outputs": [],
   "source": [
    "real = LOG10(close)"
   ]
  },
  {
   "cell_type": "markdown",
   "id": "5b87478a",
   "metadata": {},
   "source": [
    "### (11)SIN - Vector Trigonometric Sin 对数函数\n",
    "\n",
    "> 函数名：SIN   \n",
    "> 名称：对数函数，三角函数"
   ]
  },
  {
   "cell_type": "code",
   "execution_count": null,
   "id": "2a6192a7",
   "metadata": {},
   "outputs": [],
   "source": [
    "real = SIN(close)"
   ]
  },
  {
   "cell_type": "markdown",
   "id": "ac67140d",
   "metadata": {},
   "source": [
    "### (12)SINH - Vector Trigonometric Sinh 双曲正弦函数\n",
    "\n",
    "> 函数名：SINH   \n",
    "> 名称：双曲正弦函数，三角函数"
   ]
  },
  {
   "cell_type": "code",
   "execution_count": null,
   "id": "98204bf7",
   "metadata": {},
   "outputs": [],
   "source": [
    "real = SINH(close)"
   ]
  },
  {
   "cell_type": "markdown",
   "id": "b8acd517",
   "metadata": {},
   "source": [
    "### (13)SQRT - Vector Square Root 非负实数的平方根\n",
    "\n",
    "> 函数名：SQRT   \n",
    "> 名称：非负实数的平方根"
   ]
  },
  {
   "cell_type": "code",
   "execution_count": null,
   "id": "fbdeaa6c",
   "metadata": {},
   "outputs": [],
   "source": [
    "real = SQRT(close)"
   ]
  },
  {
   "cell_type": "markdown",
   "id": "78e2c12b",
   "metadata": {},
   "source": [
    "### (14)TAN - Vector Trigonometric Tan 正切函数\n",
    "\n",
    "> 函数名：TAN   \n",
    "> 名称：正切函数，三角函数"
   ]
  },
  {
   "cell_type": "code",
   "execution_count": null,
   "id": "3e72e012",
   "metadata": {},
   "outputs": [],
   "source": [
    "real = TAN(close)"
   ]
  },
  {
   "cell_type": "markdown",
   "id": "68593470",
   "metadata": {},
   "source": [
    "### (15)TANH - Vector Trigonometric Tanh 双曲正切函数\n",
    "\n",
    "> 函数名：TANH   \n",
    "> 名称：双曲正切函数，三角函数"
   ]
  },
  {
   "cell_type": "code",
   "execution_count": null,
   "id": "2704f1df",
   "metadata": {},
   "outputs": [],
   "source": [
    "real = TANH(close)"
   ]
  },
  {
   "cell_type": "markdown",
   "id": "45c0b074",
   "metadata": {},
   "source": [
    "## 10.Math Operators 数学运算符\n",
    "**数学运算符指标汇总表**\n",
    "\n",
    "| 指标       | 函数名       | 实例        |\n",
    "| :------------- | :-------------------- | :------------------------------- |\n",
    "| ADD - Vector Arithmetic Add 向量加法运算| ADD  |real = ADD(high, low)|\n",
    "| DIV - Vector Arithmetic Div 向量除法运算 | DIV| real = DIV(high, low)|\n",
    "| MAX - Highest value over a specified period 周期内最大值| MAX  |real = MAX(close, timeperiod=30)|\n",
    "| MAXINDEX - Index of highest value over a specified period 周期内最大值的索引 | MAXINDEX |integer = MAXINDEX(close, timeperiod=30)|\n",
    "| MIN - Lowest value over a specified period  周期内最小值 | MIN | real = MIN(close, timeperiod=30)|\n",
    "| MININDEX - Index of lowest value over a specified period 周期内最小值的索引 | MININDEX |integer = MININDEX(close, timeperiod=30)|\n",
    "| MINMAX - Lowest and highest values over a specified period 周期内最小值和最大值| MINMAX| min, max = MINMAX(close, timeperiod=30)|\n",
    "| MINMAXINDEX - Indexes of lowest and highest values over a specified period 周期内最小值和最大值索引| MINMAXINDEX  |minidx, maxidx = MINMAXINDEX(close, timeperiod=30)|\n",
    "| MULT - Vector Arithmetic Mult向量乘法运算 | MULT |real = MULT(high, low)|\n",
    "| SUB - Vector Arithmetic Substraction 向量减法运算| SUB  |real = SUB(high, low)|\n",
    "| SUM - Summation 周期内求和| SUM | real = SUM(close, timeperiod=30)|"
   ]
  },
  {
   "cell_type": "markdown",
   "id": "68b7229e",
   "metadata": {},
   "source": [
    "### (1)ADD - Vector Arithmetic Add 向量加法运算\n",
    "\n",
    "> 函数名：ADD   \n",
    "> 名称：向量加法运算"
   ]
  },
  {
   "cell_type": "code",
   "execution_count": null,
   "id": "b74dacad",
   "metadata": {},
   "outputs": [],
   "source": [
    "real = ADD(high, low)"
   ]
  },
  {
   "cell_type": "markdown",
   "id": "5eb3d2c1",
   "metadata": {},
   "source": [
    "### (2)DIV - Vector Arithmetic Div 向量除法运算\n",
    "\n",
    "> 函数名：DIV   \n",
    "> 名称：向量除法运算"
   ]
  },
  {
   "cell_type": "code",
   "execution_count": null,
   "id": "60cbf95e",
   "metadata": {},
   "outputs": [],
   "source": [
    "real = DIV(high, low)"
   ]
  },
  {
   "cell_type": "markdown",
   "id": "fbfeba6f",
   "metadata": {},
   "source": [
    "### (3)MAX - Highest value over a specified period 周期内最大值\n",
    "\n",
    "> 函数名：MAX   \n",
    "> 名称：周期内最大值（未满足周期返回nan）"
   ]
  },
  {
   "cell_type": "code",
   "execution_count": null,
   "id": "f3e1dcb6",
   "metadata": {},
   "outputs": [],
   "source": [
    "real = MAX(close, timeperiod=30)"
   ]
  },
  {
   "cell_type": "markdown",
   "id": "d9ad90b9",
   "metadata": {},
   "source": [
    "### (4)MAXINDEX - Index of highest value over a specified period 周期内最大值的索引 \n",
    "\n",
    "> 函数名：MAXINDEX   \n",
    "> 名称：周期内最大值的索引   "
   ]
  },
  {
   "cell_type": "code",
   "execution_count": null,
   "id": "175db4f8",
   "metadata": {},
   "outputs": [],
   "source": [
    "integer = MAXINDEX(close, timeperiod=30)"
   ]
  },
  {
   "cell_type": "markdown",
   "id": "ef06cf33",
   "metadata": {},
   "source": [
    "### (5)MIN - Lowest value over a specified period 周期内最小值\n",
    "\n",
    "> 函数名：MIN   \n",
    "> 名称：周期内最小值 （未满足周期返回nan）"
   ]
  },
  {
   "cell_type": "code",
   "execution_count": null,
   "id": "bfd58012",
   "metadata": {},
   "outputs": [],
   "source": [
    "real = MIN(close, timeperiod=30)"
   ]
  },
  {
   "cell_type": "markdown",
   "id": "f7d74f38",
   "metadata": {},
   "source": [
    "### (6)MININDEX - Index of lowest value over a specified period 周期内最小值的索引\n",
    "\n",
    "> 函数名：MININDEX   \n",
    "> 名称：周期内最小值的索引 "
   ]
  },
  {
   "cell_type": "code",
   "execution_count": null,
   "id": "3eae4d09",
   "metadata": {},
   "outputs": [],
   "source": [
    "integer = MININDEX(close, timeperiod=30)"
   ]
  },
  {
   "cell_type": "markdown",
   "id": "117bb061",
   "metadata": {},
   "source": [
    "### (7)MINMAX - Lowest and highest values over a specified period 周期内最小值和最大值\n",
    "\n",
    "> 函数名：MINMAX   \n",
    "> 名称：周期内最小值和最大值(返回元组（array【最小】，array【最大】）)"
   ]
  },
  {
   "cell_type": "code",
   "execution_count": null,
   "id": "2291425e",
   "metadata": {},
   "outputs": [],
   "source": [
    "min, max = MINMAX(close, timeperiod=30)"
   ]
  },
  {
   "cell_type": "markdown",
   "id": "3fc8a9e9",
   "metadata": {},
   "source": [
    "### (8)MINMAXINDEX - Indexes of lowest and highest values over a specified period 周期内最小值和最大值索引\n",
    "\n",
    "> 函数名：MINMAX   \n",
    "> 名称：周期内最小值和最大值索引(返回元组元组（array【最小】，array【最大】）)"
   ]
  },
  {
   "cell_type": "code",
   "execution_count": null,
   "id": "873dd127",
   "metadata": {},
   "outputs": [],
   "source": [
    "minidx, maxidx = MINMAXINDEX(close, timeperiod=30)"
   ]
  },
  {
   "cell_type": "markdown",
   "id": "e8b2b573",
   "metadata": {},
   "source": [
    "### (9)MULT - Vector Arithmetic Mult 向量乘法运算\n",
    " \n",
    "> 函数名：MULT   \n",
    "> 名称：向量乘法运算"
   ]
  },
  {
   "cell_type": "code",
   "execution_count": null,
   "id": "163c2e6d",
   "metadata": {},
   "outputs": [],
   "source": [
    "real = MULT(high, low)"
   ]
  },
  {
   "cell_type": "markdown",
   "id": "5cafeb6f",
   "metadata": {},
   "source": [
    "### (10)SUB - Vector Arithmetic Substraction 向量减法运算\n",
    "\n",
    "> 函数名：SUB   \n",
    "> 名称：向量减法运算"
   ]
  },
  {
   "cell_type": "code",
   "execution_count": null,
   "id": "07b7879b",
   "metadata": {},
   "outputs": [],
   "source": [
    "real = SUB(high, low)"
   ]
  },
  {
   "cell_type": "markdown",
   "id": "4a2c181b",
   "metadata": {},
   "source": [
    "### (11)SUM - Summation 周期内求和\n",
    "\n",
    "> 函数名：SUM   \n",
    "> 名称：周期内求和"
   ]
  },
  {
   "cell_type": "code",
   "execution_count": null,
   "id": "151ee5d0",
   "metadata": {},
   "outputs": [],
   "source": [
    "real = SUM(close, timeperiod=30)"
   ]
  }
 ],
 "metadata": {
  "kernelspec": {
   "display_name": "Python 3",
   "language": "python",
   "name": "python3"
  },
  "language_info": {
   "codemirror_mode": {
    "name": "ipython",
    "version": 3
   },
   "file_extension": ".py",
   "mimetype": "text/x-python",
   "name": "python",
   "nbconvert_exporter": "python",
   "pygments_lexer": "ipython3",
   "version": "3.8.8"
  }
 },
 "nbformat": 4,
 "nbformat_minor": 5
}
